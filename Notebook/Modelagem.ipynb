{
 "cells": [
  {
   "cell_type": "code",
   "execution_count": 2,
   "metadata": {
    "vscode": {
     "languageId": "r"
    }
   },
   "outputs": [
    {
     "name": "stderr",
     "output_type": "stream",
     "text": [
      "Warning message in system(\"timedatectl\", intern = TRUE):\n",
      "“running command 'timedatectl' had status 1”\n",
      "── \u001b[1mAttaching core tidyverse packages\u001b[22m ──────────────────────── tidyverse 2.0.0 ──\n",
      "\u001b[32m✔\u001b[39m \u001b[34mdplyr    \u001b[39m 1.1.0     \u001b[32m✔\u001b[39m \u001b[34mreadr    \u001b[39m 2.1.4\n",
      "\u001b[32m✔\u001b[39m \u001b[34mforcats  \u001b[39m 1.0.0     \u001b[32m✔\u001b[39m \u001b[34mstringr  \u001b[39m 1.5.0\n",
      "\u001b[32m✔\u001b[39m \u001b[34mggplot2  \u001b[39m 3.4.1     \u001b[32m✔\u001b[39m \u001b[34mtibble   \u001b[39m 3.2.0\n",
      "\u001b[32m✔\u001b[39m \u001b[34mlubridate\u001b[39m 1.9.2     \u001b[32m✔\u001b[39m \u001b[34mtidyr    \u001b[39m 1.3.0\n",
      "\u001b[32m✔\u001b[39m \u001b[34mpurrr    \u001b[39m 1.0.1     \n",
      "── \u001b[1mConflicts\u001b[22m ────────────────────────────────────────── tidyverse_conflicts() ──\n",
      "\u001b[31m✖\u001b[39m \u001b[34mdplyr\u001b[39m::\u001b[32mfilter()\u001b[39m masks \u001b[34mstats\u001b[39m::filter()\n",
      "\u001b[31m✖\u001b[39m \u001b[34mdplyr\u001b[39m::\u001b[32mlag()\u001b[39m    masks \u001b[34mstats\u001b[39m::lag()\n",
      "\u001b[36mℹ\u001b[39m Use the conflicted package (\u001b[3m\u001b[34m<http://conflicted.r-lib.org/>\u001b[39m\u001b[23m) to force all conflicts to become errors\n",
      "Loading required package: lattice\n",
      "\n",
      "\n",
      "Attaching package: ‘caret’\n",
      "\n",
      "\n",
      "The following object is masked from ‘package:purrr’:\n",
      "\n",
      "    lift\n",
      "\n",
      "\n",
      "\n",
      "Attaching package: ‘arrow’\n",
      "\n",
      "\n",
      "The following object is masked from ‘package:lubridate’:\n",
      "\n",
      "    duration\n",
      "\n",
      "\n",
      "The following object is masked from ‘package:utils’:\n",
      "\n",
      "    timestamp\n",
      "\n",
      "\n"
     ]
    }
   ],
   "source": [
    "library(tidyverse)\n",
    "library(caret)\n",
    "library(arrow)\n",
    "set.seed(123)"
   ]
  },
  {
   "cell_type": "code",
   "execution_count": 3,
   "metadata": {
    "vscode": {
     "languageId": "r"
    }
   },
   "outputs": [
    {
     "data": {
      "text/html": [
       "<table class=\"dataframe\">\n",
       "<caption>A tibble: 6 × 25</caption>\n",
       "<thead>\n",
       "\t<tr><th scope=col>Carro</th><th scope=col>Marca</th><th scope=col>Modelo</th><th scope=col>PrecoMax</th><th scope=col>PotenciaMotor</th><th scope=col>TorqueMax</th><th scope=col>Freios</th><th scope=col>Tracao</th><th scope=col>CapacidadeBateria</th><th scope=col>Autonomia</th><th scope=col>⋯</th><th scope=col>PesoMax</th><th scope=col>CargaMax</th><th scope=col>NumAssentos</th><th scope=col>NumPorta</th><th scope=col>TamanhoPneus</th><th scope=col>VeloMax</th><th scope=col>TamanhoPorta-Malas</th><th scope=col>Aceleracao</th><th scope=col>PotenciaMaximaBat</th><th scope=col>ConsumoMedio</th></tr>\n",
       "\t<tr><th scope=col>&lt;fct&gt;</th><th scope=col>&lt;fct&gt;</th><th scope=col>&lt;fct&gt;</th><th scope=col>&lt;dbl&gt;</th><th scope=col>&lt;dbl&gt;</th><th scope=col>&lt;dbl&gt;</th><th scope=col>&lt;fct&gt;</th><th scope=col>&lt;fct&gt;</th><th scope=col>&lt;dbl&gt;</th><th scope=col>&lt;dbl&gt;</th><th scope=col>⋯</th><th scope=col>&lt;dbl&gt;</th><th scope=col>&lt;dbl&gt;</th><th scope=col>&lt;dbl&gt;</th><th scope=col>&lt;dbl&gt;</th><th scope=col>&lt;dbl&gt;</th><th scope=col>&lt;dbl&gt;</th><th scope=col>&lt;dbl&gt;</th><th scope=col>&lt;dbl&gt;</th><th scope=col>&lt;dbl&gt;</th><th scope=col>&lt;dbl&gt;</th></tr>\n",
       "</thead>\n",
       "<tbody>\n",
       "\t<tr><td>Audi e-tron 55 quattro          </td><td>Audi</td><td>e-tron 55 quattro          </td><td>345700</td><td>360</td><td>664</td><td>disc (front + rear)</td><td>4WD</td><td>95</td><td>438</td><td>⋯</td><td>3130</td><td>640</td><td>5</td><td>5</td><td>19</td><td>200</td><td>660</td><td>5.7</td><td>150</td><td>24.45</td></tr>\n",
       "\t<tr><td>Audi e-tron 50 quattro          </td><td>Audi</td><td>e-tron 50 quattro          </td><td>308400</td><td>313</td><td>540</td><td>disc (front + rear)</td><td>4WD</td><td>71</td><td>340</td><td>⋯</td><td>3040</td><td>670</td><td>5</td><td>5</td><td>19</td><td>190</td><td>660</td><td>6.8</td><td>150</td><td>23.80</td></tr>\n",
       "\t<tr><td>Audi e-tron S quattro           </td><td>Audi</td><td>e-tron S quattro           </td><td>414900</td><td>503</td><td>973</td><td>disc (front + rear)</td><td>4WD</td><td>95</td><td>364</td><td>⋯</td><td>3130</td><td>565</td><td>5</td><td>5</td><td>20</td><td>210</td><td>660</td><td>4.5</td><td>150</td><td>27.55</td></tr>\n",
       "\t<tr><td>Audi e-tron Sportback 50 quattro</td><td>Audi</td><td>e-tron Sportback 50 quattro</td><td>319700</td><td>313</td><td>540</td><td>disc (front + rear)</td><td>4WD</td><td>71</td><td>346</td><td>⋯</td><td>3040</td><td>640</td><td>5</td><td>5</td><td>19</td><td>190</td><td>615</td><td>6.8</td><td>150</td><td>23.30</td></tr>\n",
       "\t<tr><td>Audi e-tron Sportback 55 quattro</td><td>Audi</td><td>e-tron Sportback 55 quattro</td><td>357000</td><td>360</td><td>664</td><td>disc (front + rear)</td><td>4WD</td><td>95</td><td>447</td><td>⋯</td><td>3130</td><td>670</td><td>5</td><td>5</td><td>19</td><td>200</td><td>615</td><td>5.7</td><td>150</td><td>23.85</td></tr>\n",
       "\t<tr><td>Audi e-tron Sportback S quattro </td><td>Audi</td><td>e-tron Sportback S quattro </td><td>426200</td><td>503</td><td>973</td><td>disc (front + rear)</td><td>4WD</td><td>95</td><td>369</td><td>⋯</td><td>3130</td><td>565</td><td>5</td><td>5</td><td>20</td><td>210</td><td>615</td><td>4.5</td><td>150</td><td>27.20</td></tr>\n",
       "</tbody>\n",
       "</table>\n"
      ],
      "text/latex": [
       "A tibble: 6 × 25\n",
       "\\begin{tabular}{lllllllllllllllllllll}\n",
       " Carro & Marca & Modelo & PrecoMax & PotenciaMotor & TorqueMax & Freios & Tracao & CapacidadeBateria & Autonomia & ⋯ & PesoMax & CargaMax & NumAssentos & NumPorta & TamanhoPneus & VeloMax & TamanhoPorta-Malas & Aceleracao & PotenciaMaximaBat & ConsumoMedio\\\\\n",
       " <fct> & <fct> & <fct> & <dbl> & <dbl> & <dbl> & <fct> & <fct> & <dbl> & <dbl> & ⋯ & <dbl> & <dbl> & <dbl> & <dbl> & <dbl> & <dbl> & <dbl> & <dbl> & <dbl> & <dbl>\\\\\n",
       "\\hline\n",
       "\t Audi e-tron 55 quattro           & Audi & e-tron 55 quattro           & 345700 & 360 & 664 & disc (front + rear) & 4WD & 95 & 438 & ⋯ & 3130 & 640 & 5 & 5 & 19 & 200 & 660 & 5.7 & 150 & 24.45\\\\\n",
       "\t Audi e-tron 50 quattro           & Audi & e-tron 50 quattro           & 308400 & 313 & 540 & disc (front + rear) & 4WD & 71 & 340 & ⋯ & 3040 & 670 & 5 & 5 & 19 & 190 & 660 & 6.8 & 150 & 23.80\\\\\n",
       "\t Audi e-tron S quattro            & Audi & e-tron S quattro            & 414900 & 503 & 973 & disc (front + rear) & 4WD & 95 & 364 & ⋯ & 3130 & 565 & 5 & 5 & 20 & 210 & 660 & 4.5 & 150 & 27.55\\\\\n",
       "\t Audi e-tron Sportback 50 quattro & Audi & e-tron Sportback 50 quattro & 319700 & 313 & 540 & disc (front + rear) & 4WD & 71 & 346 & ⋯ & 3040 & 640 & 5 & 5 & 19 & 190 & 615 & 6.8 & 150 & 23.30\\\\\n",
       "\t Audi e-tron Sportback 55 quattro & Audi & e-tron Sportback 55 quattro & 357000 & 360 & 664 & disc (front + rear) & 4WD & 95 & 447 & ⋯ & 3130 & 670 & 5 & 5 & 19 & 200 & 615 & 5.7 & 150 & 23.85\\\\\n",
       "\t Audi e-tron Sportback S quattro  & Audi & e-tron Sportback S quattro  & 426200 & 503 & 973 & disc (front + rear) & 4WD & 95 & 369 & ⋯ & 3130 & 565 & 5 & 5 & 20 & 210 & 615 & 4.5 & 150 & 27.20\\\\\n",
       "\\end{tabular}\n"
      ],
      "text/markdown": [
       "\n",
       "A tibble: 6 × 25\n",
       "\n",
       "| Carro &lt;fct&gt; | Marca &lt;fct&gt; | Modelo &lt;fct&gt; | PrecoMax &lt;dbl&gt; | PotenciaMotor &lt;dbl&gt; | TorqueMax &lt;dbl&gt; | Freios &lt;fct&gt; | Tracao &lt;fct&gt; | CapacidadeBateria &lt;dbl&gt; | Autonomia &lt;dbl&gt; | ⋯ ⋯ | PesoMax &lt;dbl&gt; | CargaMax &lt;dbl&gt; | NumAssentos &lt;dbl&gt; | NumPorta &lt;dbl&gt; | TamanhoPneus &lt;dbl&gt; | VeloMax &lt;dbl&gt; | TamanhoPorta-Malas &lt;dbl&gt; | Aceleracao &lt;dbl&gt; | PotenciaMaximaBat &lt;dbl&gt; | ConsumoMedio &lt;dbl&gt; |\n",
       "|---|---|---|---|---|---|---|---|---|---|---|---|---|---|---|---|---|---|---|---|---|\n",
       "| Audi e-tron 55 quattro           | Audi | e-tron 55 quattro           | 345700 | 360 | 664 | disc (front + rear) | 4WD | 95 | 438 | ⋯ | 3130 | 640 | 5 | 5 | 19 | 200 | 660 | 5.7 | 150 | 24.45 |\n",
       "| Audi e-tron 50 quattro           | Audi | e-tron 50 quattro           | 308400 | 313 | 540 | disc (front + rear) | 4WD | 71 | 340 | ⋯ | 3040 | 670 | 5 | 5 | 19 | 190 | 660 | 6.8 | 150 | 23.80 |\n",
       "| Audi e-tron S quattro            | Audi | e-tron S quattro            | 414900 | 503 | 973 | disc (front + rear) | 4WD | 95 | 364 | ⋯ | 3130 | 565 | 5 | 5 | 20 | 210 | 660 | 4.5 | 150 | 27.55 |\n",
       "| Audi e-tron Sportback 50 quattro | Audi | e-tron Sportback 50 quattro | 319700 | 313 | 540 | disc (front + rear) | 4WD | 71 | 346 | ⋯ | 3040 | 640 | 5 | 5 | 19 | 190 | 615 | 6.8 | 150 | 23.30 |\n",
       "| Audi e-tron Sportback 55 quattro | Audi | e-tron Sportback 55 quattro | 357000 | 360 | 664 | disc (front + rear) | 4WD | 95 | 447 | ⋯ | 3130 | 670 | 5 | 5 | 19 | 200 | 615 | 5.7 | 150 | 23.85 |\n",
       "| Audi e-tron Sportback S quattro  | Audi | e-tron Sportback S quattro  | 426200 | 503 | 973 | disc (front + rear) | 4WD | 95 | 369 | ⋯ | 3130 | 565 | 5 | 5 | 20 | 210 | 615 | 4.5 | 150 | 27.20 |\n",
       "\n"
      ],
      "text/plain": [
       "  Carro                            Marca Modelo                      PrecoMax\n",
       "1 Audi e-tron 55 quattro           Audi  e-tron 55 quattro           345700  \n",
       "2 Audi e-tron 50 quattro           Audi  e-tron 50 quattro           308400  \n",
       "3 Audi e-tron S quattro            Audi  e-tron S quattro            414900  \n",
       "4 Audi e-tron Sportback 50 quattro Audi  e-tron Sportback 50 quattro 319700  \n",
       "5 Audi e-tron Sportback 55 quattro Audi  e-tron Sportback 55 quattro 357000  \n",
       "6 Audi e-tron Sportback S quattro  Audi  e-tron Sportback S quattro  426200  \n",
       "  PotenciaMotor TorqueMax Freios              Tracao CapacidadeBateria\n",
       "1 360           664       disc (front + rear) 4WD    95               \n",
       "2 313           540       disc (front + rear) 4WD    71               \n",
       "3 503           973       disc (front + rear) 4WD    95               \n",
       "4 313           540       disc (front + rear) 4WD    71               \n",
       "5 360           664       disc (front + rear) 4WD    95               \n",
       "6 503           973       disc (front + rear) 4WD    95               \n",
       "  Autonomia ⋯ PesoMax CargaMax NumAssentos NumPorta TamanhoPneus VeloMax\n",
       "1 438       ⋯ 3130    640      5           5        19           200    \n",
       "2 340       ⋯ 3040    670      5           5        19           190    \n",
       "3 364       ⋯ 3130    565      5           5        20           210    \n",
       "4 346       ⋯ 3040    640      5           5        19           190    \n",
       "5 447       ⋯ 3130    670      5           5        19           200    \n",
       "6 369       ⋯ 3130    565      5           5        20           210    \n",
       "  TamanhoPorta-Malas Aceleracao PotenciaMaximaBat ConsumoMedio\n",
       "1 660                5.7        150               24.45       \n",
       "2 660                6.8        150               23.80       \n",
       "3 660                4.5        150               27.55       \n",
       "4 615                6.8        150               23.30       \n",
       "5 615                5.7        150               23.85       \n",
       "6 615                4.5        150               27.20       "
      ]
     },
     "metadata": {},
     "output_type": "display_data"
    },
    {
     "name": "stdout",
     "output_type": "stream",
     "text": [
      "tibble [44 × 25] (S3: tbl_df/tbl/data.frame)\n",
      " $ Carro             : Factor w/ 53 levels \"Audi e-tron 50 quattro\",..: 2 1 3 4 5 6 7 8 9 12 ...\n",
      " $ Marca             : Factor w/ 20 levels \"Audi\",\"BMW\",\"Citroën\",..: 1 1 1 1 1 1 2 2 2 4 ...\n",
      " $ Modelo            : Factor w/ 53 levels \"Citigo-e iV\",..: 17 16 18 19 20 21 28 29 34 4 ...\n",
      " $ PrecoMax          : num [1:44] 345700 308400 414900 319700 357000 ...\n",
      " $ PotenciaMotor     : num [1:44] 360 313 503 313 360 503 170 184 286 136 ...\n",
      " $ TorqueMax         : num [1:44] 664 540 973 540 664 973 250 270 400 260 ...\n",
      " $ Freios            : Factor w/ 2 levels \"disc (front + rear)\",..: 1 1 1 1 1 1 1 1 1 1 ...\n",
      " $ Tracao            : Factor w/ 3 levels \"2WD (front)\",..: 3 3 3 3 3 3 2 2 2 1 ...\n",
      " $ CapacidadeBateria : num [1:44] 95 71 95 71 95 95 42.2 42.2 80 50 ...\n",
      " $ Autonomia         : num [1:44] 438 340 364 346 447 369 359 345 460 320 ...\n",
      " $ Entre-eixos       : num [1:44] 293 293 293 293 293 ...\n",
      " $ Comprimento       : num [1:44] 490 490 490 490 490 ...\n",
      " $ Largura           : num [1:44] 194 194 198 194 194 ...\n",
      " $ Altura            : num [1:44] 163 163 163 162 162 ...\n",
      " $ PesoMin           : num [1:44] 2565 2445 2695 2445 2595 ...\n",
      " $ PesoMax           : num [1:44] 3130 3040 3130 3040 3130 ...\n",
      " $ CargaMax          : num [1:44] 640 670 565 640 670 565 440 440 540 450 ...\n",
      " $ NumAssentos       : num [1:44] 5 5 5 5 5 5 4 4 5 5 ...\n",
      " $ NumPorta          : num [1:44] 5 5 5 5 5 5 5 5 5 5 ...\n",
      " $ TamanhoPneus      : num [1:44] 19 19 20 19 19 20 19 20 19 17 ...\n",
      " $ VeloMax           : num [1:44] 200 190 210 190 200 210 160 160 180 150 ...\n",
      " $ TamanhoPorta-Malas: num [1:44] 660 660 660 615 615 615 260 260 510 350 ...\n",
      " $ Aceleracao        : num [1:44] 5.7 6.8 4.5 6.8 5.7 4.5 8.1 6.9 6.8 8.7 ...\n",
      " $ PotenciaMaximaBat : num [1:44] 150 150 150 150 150 150 50 50 150 100 ...\n",
      " $ ConsumoMedio      : num [1:44] 24.4 23.8 27.6 23.3 23.9 ...\n"
     ]
    }
   ],
   "source": [
    "data <- read_parquet('../Dados/Processado/Carros.parquet')\n",
    "\n",
    "data %>%\n",
    "    head()\n",
    "\n",
    "data %>%\n",
    "    str()"
   ]
  },
  {
   "cell_type": "markdown",
   "metadata": {},
   "source": [
    "# Feature Selection"
   ]
  },
  {
   "attachments": {},
   "cell_type": "markdown",
   "metadata": {},
   "source": [
    "A feature selection será realizada através do algoritmo Random Forest. Apesar desse algoritmo ser mais utilizado para problemas de classificação e regressão, ele também pode ser utilizado para seleção de features. O algoritmo Random Forest é um algoritmo de ensemble, ou seja, ele utiliza a combinação de vários modelos de árvore de decisão para gerar um modelo final. A vantagem desse algoritmo é que ele é capaz de selecionar as features mais importantes para o modelo, ou seja, as features que mais contribuem para a predição do modelo. No caso em questão, vou selecionar todas as variáveis que possuem uma importância maior que 0.7."
   ]
  },
  {
   "cell_type": "code",
   "execution_count": 4,
   "metadata": {
    "vscode": {
     "languageId": "r"
    }
   },
   "outputs": [],
   "source": [
    "rf_selection_model <- train(\n",
    "    `ConsumoMedio` ~ .\n",
    "                    - Carro\n",
    "                    - Marca\n",
    "                    - Modelo\n",
    "                    ,\n",
    "    data = data,\n",
    "    method = 'rf'\n",
    ")"
   ]
  },
  {
   "cell_type": "code",
   "execution_count": 5,
   "metadata": {
    "vscode": {
     "languageId": "r"
    }
   },
   "outputs": [
    {
     "data": {
      "image/png": "[encoded data removed]",
      "text/plain": [
       "plot without title"
      ]
     },
     "metadata": {
      "image/png": {
       "height": 420,
       "width": 420
      }
     },
     "output_type": "display_data"
    }
   ],
   "source": [
    "plot(varImp(rf_selection_model))"
   ]
  },
  {
   "cell_type": "code",
   "execution_count": 6,
   "metadata": {
    "vscode": {
     "languageId": "r"
    }
   },
   "outputs": [],
   "source": [
    "FORMULA <- 'ConsumoMedio ~ Comprimento + CargaMax + TamanhoPorta-Malas + PrecoMax + PesoMax + PesoMin + Largura'"
   ]
  },
  {
   "cell_type": "markdown",
   "metadata": {},
   "source": [
    "# Treinamento do Modelo"
   ]
  },
  {
   "attachments": {},
   "cell_type": "markdown",
   "metadata": {},
   "source": [
    "Como meu objetivo é prever o consumo médio de energia de um carro elétrico, eu me encontro em um problema de regressão. Dessa forma, vou testar alguns algoritmos de regressão e escolher o que apresentar o melhor resultado."
   ]
  },
  {
   "cell_type": "code",
   "execution_count": 7,
   "metadata": {
    "vscode": {
     "languageId": "r"
    }
   },
   "outputs": [],
   "source": [
    "data_split <- createDataPartition(\n",
    "    y = data$ConsumoMedio,\n",
    "    p = 0.75,\n",
    "    list = FALSE\n",
    ")\n",
    "\n",
    "train_data <- data[data_split, ]\n",
    "test_data <- data[-data_split, ]"
   ]
  },
  {
   "cell_type": "code",
   "execution_count": null,
   "metadata": {
    "vscode": {
     "languageId": "r"
    }
   },
   "outputs": [],
   "source": [
    "%%capture\n",
    "models <- c('lm', 'rf', 'xgbTree', 'svmRadial', 'knn', 'svmLinear', 'svmLinear3', 'krlsPoly', 'krlsRadial')\n",
    "\n",
    "model_list <- list()\n",
    "\n",
    "for (model in models) {\n",
    "    model_list[[model]] <- train(\n",
    "        ConsumoMedio ~ Comprimento + CargaMax + `TamanhoPorta-Malas` + PrecoMax + PesoMax + PesoMin + Largura,\n",
    "        data = train_data,\n",
    "        method = model,\n",
    "        preProc = c('center', 'scale'),\n",
    "        trControl = trainControl(\n",
    "            method = 'boot',\n",
    "            number = 25,\n",
    "            p = 0.80\n",
    "        )\n",
    "    )\n",
    "}"
   ]
  },
  {
   "cell_type": "code",
   "execution_count": 9,
   "metadata": {
    "vscode": {
     "languageId": "r"
    }
   },
   "outputs": [],
   "source": [
    "calculate_metrics <- function(model, test_data){\n",
    "  # Extract model predictions and actual values\n",
    "  predictions <- predict(model, newdata = test_data)\n",
    "  actual <- test_data$ConsumoMedio\n",
    "\n",
    "  # Calculate common regression metrics\n",
    "  mse <- mean((actual - predictions)^2)\n",
    "  rmse <- sqrt(mse)\n",
    "  mae <- mean(abs(actual - predictions))\n",
    "  r2 <- cor(actual, predictions)^2\n",
    "  \n",
    "  #  Dataframe with metrics\n",
    "  metrics <- data.frame(Model = model$method, MSE = mse, RMSE = rmse, MAE = mae, R2 = r2)\n",
    "  \n",
    "  return(metrics)\n",
    "}\n"
   ]
  },
  {
   "cell_type": "code",
   "execution_count": 10,
   "metadata": {
    "vscode": {
     "languageId": "r"
    }
   },
   "outputs": [],
   "source": [
    "df_metrics <- data.frame()  # Empty dataframe\n",
    "\n",
    "for(model in model_list){\n",
    "    temp_df <- calculate_metrics(model, test_data)\n",
    "    df_metrics <- rbind(df_metrics, temp_df)\n",
    "}"
   ]
  },
  {
   "cell_type": "code",
   "execution_count": 26,
   "metadata": {
    "vscode": {
     "languageId": "r"
    }
   },
   "outputs": [
    {
     "data": {
      "text/html": [
       "<table class=\"dataframe\">\n",
       "<caption>A data.frame: 9 × 5</caption>\n",
       "<thead>\n",
       "\t<tr><th scope=col>Model</th><th scope=col>MSE</th><th scope=col>RMSE</th><th scope=col>MAE</th><th scope=col>R2</th></tr>\n",
       "\t<tr><th scope=col>&lt;chr&gt;</th><th scope=col>&lt;dbl&gt;</th><th scope=col>&lt;dbl&gt;</th><th scope=col>&lt;dbl&gt;</th><th scope=col>&lt;dbl&gt;</th></tr>\n",
       "</thead>\n",
       "<tbody>\n",
       "\t<tr><td>svmRadial </td><td> 2.226849</td><td>1.492263</td><td>1.115563</td><td>0.9733828</td></tr>\n",
       "\t<tr><td>svmLinear3</td><td> 2.882738</td><td>1.697863</td><td>1.550279</td><td>0.9723585</td></tr>\n",
       "\t<tr><td>svmLinear </td><td> 4.359512</td><td>2.087944</td><td>1.781333</td><td>0.9710662</td></tr>\n",
       "\t<tr><td>lm        </td><td> 3.212528</td><td>1.792353</td><td>1.515733</td><td>0.9691709</td></tr>\n",
       "\t<tr><td>rf        </td><td> 2.501950</td><td>1.581755</td><td>1.302031</td><td>0.9649514</td></tr>\n",
       "\t<tr><td>krlsRadial</td><td> 2.135192</td><td>1.461230</td><td>1.154153</td><td>0.9645024</td></tr>\n",
       "\t<tr><td>knn       </td><td> 2.420802</td><td>1.555893</td><td>1.265432</td><td>0.9177125</td></tr>\n",
       "\t<tr><td>xgbTree   </td><td> 3.566847</td><td>1.888610</td><td>1.384757</td><td>0.8543938</td></tr>\n",
       "\t<tr><td>krlsPoly  </td><td>15.921817</td><td>3.990215</td><td>3.706352</td><td>0.8458158</td></tr>\n",
       "</tbody>\n",
       "</table>\n"
      ],
      "text/latex": [
       "A data.frame: 9 × 5\n",
       "\\begin{tabular}{lllll}\n",
       " Model & MSE & RMSE & MAE & R2\\\\\n",
       " <chr> & <dbl> & <dbl> & <dbl> & <dbl>\\\\\n",
       "\\hline\n",
       "\t svmRadial  &  2.226849 & 1.492263 & 1.115563 & 0.9733828\\\\\n",
       "\t svmLinear3 &  2.882738 & 1.697863 & 1.550279 & 0.9723585\\\\\n",
       "\t svmLinear  &  4.359512 & 2.087944 & 1.781333 & 0.9710662\\\\\n",
       "\t lm         &  3.212528 & 1.792353 & 1.515733 & 0.9691709\\\\\n",
       "\t rf         &  2.501950 & 1.581755 & 1.302031 & 0.9649514\\\\\n",
       "\t krlsRadial &  2.135192 & 1.461230 & 1.154153 & 0.9645024\\\\\n",
       "\t knn        &  2.420802 & 1.555893 & 1.265432 & 0.9177125\\\\\n",
       "\t xgbTree    &  3.566847 & 1.888610 & 1.384757 & 0.8543938\\\\\n",
       "\t krlsPoly   & 15.921817 & 3.990215 & 3.706352 & 0.8458158\\\\\n",
       "\\end{tabular}\n"
      ],
      "text/markdown": [
       "\n",
       "A data.frame: 9 × 5\n",
       "\n",
       "| Model &lt;chr&gt; | MSE &lt;dbl&gt; | RMSE &lt;dbl&gt; | MAE &lt;dbl&gt; | R2 &lt;dbl&gt; |\n",
       "|---|---|---|---|---|\n",
       "| svmRadial  |  2.226849 | 1.492263 | 1.115563 | 0.9733828 |\n",
       "| svmLinear3 |  2.882738 | 1.697863 | 1.550279 | 0.9723585 |\n",
       "| svmLinear  |  4.359512 | 2.087944 | 1.781333 | 0.9710662 |\n",
       "| lm         |  3.212528 | 1.792353 | 1.515733 | 0.9691709 |\n",
       "| rf         |  2.501950 | 1.581755 | 1.302031 | 0.9649514 |\n",
       "| krlsRadial |  2.135192 | 1.461230 | 1.154153 | 0.9645024 |\n",
       "| knn        |  2.420802 | 1.555893 | 1.265432 | 0.9177125 |\n",
       "| xgbTree    |  3.566847 | 1.888610 | 1.384757 | 0.8543938 |\n",
       "| krlsPoly   | 15.921817 | 3.990215 | 3.706352 | 0.8458158 |\n",
       "\n"
      ],
      "text/plain": [
       "  Model      MSE       RMSE     MAE      R2       \n",
       "1 svmRadial   2.226849 1.492263 1.115563 0.9733828\n",
       "2 svmLinear3  2.882738 1.697863 1.550279 0.9723585\n",
       "3 svmLinear   4.359512 2.087944 1.781333 0.9710662\n",
       "4 lm          3.212528 1.792353 1.515733 0.9691709\n",
       "5 rf          2.501950 1.581755 1.302031 0.9649514\n",
       "6 krlsRadial  2.135192 1.461230 1.154153 0.9645024\n",
       "7 knn         2.420802 1.555893 1.265432 0.9177125\n",
       "8 xgbTree     3.566847 1.888610 1.384757 0.8543938\n",
       "9 krlsPoly   15.921817 3.990215 3.706352 0.8458158"
      ]
     },
     "metadata": {},
     "output_type": "display_data"
    }
   ],
   "source": [
    "df_metrics %>%\n",
    "    arrange(desc(R2))"
   ]
  },
  {
   "attachments": {},
   "cell_type": "markdown",
   "metadata": {},
   "source": [
    "Retirando os algoritmos de knn, xbgTree e KrlsPoly, que apresentaram resultados muito inferiores, os demais algoritmos todos podem ser escolhidos para o modelo final dependente da situação. Caso esteja em um cenário, por exemplo, que um modelo com um tempo de treinamento mais rápido seja mais importante do que um modelo com um resultado mais preciso e que seja mais fácil de explicar, o de regressão linear pode ser uma boa opção. Dessa forma, a escolha do modelo dependeria do problema de negócio."
   ]
  }
 ],
 "metadata": {
  "kernelspec": {
   "display_name": "R",
   "language": "R",
   "name": "ir"
  },
  "language_info": {
   "codemirror_mode": "r",
   "file_extension": ".r",
   "mimetype": "text/x-r-source",
   "name": "R",
   "pygments_lexer": "r",
   "version": "4.2.2"
  },
  "orig_nbformat": 4
 },
 "nbformat": 4,
 "nbformat_minor": 2
}
