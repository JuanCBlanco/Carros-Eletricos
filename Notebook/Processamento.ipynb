{
 "cells": [
  {
   "cell_type": "markdown",
   "metadata": {},
   "source": [
    "# Importando Pacotes e Dados"
   ]
  },
  {
   "cell_type": "code",
   "execution_count": 1,
   "metadata": {
    "vscode": {
     "languageId": "r"
    }
   },
   "outputs": [
    {
     "name": "stderr",
     "output_type": "stream",
     "text": [
      "Warning message in system(\"timedatectl\", intern = TRUE):\n",
      "“running command 'timedatectl' had status 1”\n",
      "── \u001b[1mAttaching core tidyverse packages\u001b[22m ──────────────────────── tidyverse 2.0.0 ──\n",
      "\u001b[32m✔\u001b[39m \u001b[34mdplyr    \u001b[39m 1.1.0     \u001b[32m✔\u001b[39m \u001b[34mreadr    \u001b[39m 2.1.4\n",
      "\u001b[32m✔\u001b[39m \u001b[34mforcats  \u001b[39m 1.0.0     \u001b[32m✔\u001b[39m \u001b[34mstringr  \u001b[39m 1.5.0\n",
      "\u001b[32m✔\u001b[39m \u001b[34mggplot2  \u001b[39m 3.4.1     \u001b[32m✔\u001b[39m \u001b[34mtibble   \u001b[39m 3.2.0\n",
      "\u001b[32m✔\u001b[39m \u001b[34mlubridate\u001b[39m 1.9.2     \u001b[32m✔\u001b[39m \u001b[34mtidyr    \u001b[39m 1.3.0\n",
      "\u001b[32m✔\u001b[39m \u001b[34mpurrr    \u001b[39m 1.0.1     \n",
      "── \u001b[1mConflicts\u001b[22m ────────────────────────────────────────── tidyverse_conflicts() ──\n",
      "\u001b[31m✖\u001b[39m \u001b[34mdplyr\u001b[39m::\u001b[32mfilter()\u001b[39m masks \u001b[34mstats\u001b[39m::filter()\n",
      "\u001b[31m✖\u001b[39m \u001b[34mdplyr\u001b[39m::\u001b[32mlag()\u001b[39m    masks \u001b[34mstats\u001b[39m::lag()\n",
      "\u001b[36mℹ\u001b[39m Use the conflicted package (\u001b[3m\u001b[34m<http://conflicted.r-lib.org/>\u001b[39m\u001b[23m) to force all conflicts to become errors\n",
      "\n",
      "Attaching package: ‘arrow’\n",
      "\n",
      "\n",
      "The following object is masked from ‘package:lubridate’:\n",
      "\n",
      "    duration\n",
      "\n",
      "\n",
      "The following object is masked from ‘package:utils’:\n",
      "\n",
      "    timestamp\n",
      "\n",
      "\n"
     ]
    }
   ],
   "source": [
    "library(readxl)\n",
    "library(tidyverse)\n",
    "library(arrow)\n",
    "library(rsample)\n",
    "options(dplyr.width = Inf, dplyr.print_min = Inf)"
   ]
  },
  {
   "cell_type": "code",
   "execution_count": 2,
   "metadata": {
    "vscode": {
     "languageId": "r"
    }
   },
   "outputs": [
    {
     "data": {
      "text/html": [
       "<table class=\"dataframe\">\n",
       "<caption>A tibble: 6 × 25</caption>\n",
       "<thead>\n",
       "\t<tr><th scope=col>Car full name</th><th scope=col>Make</th><th scope=col>Model</th><th scope=col>Minimal price (gross) [PLN]</th><th scope=col>Engine power [KM]</th><th scope=col>Maximum torque [Nm]</th><th scope=col>Type of brakes</th><th scope=col>Drive type</th><th scope=col>Battery capacity [kWh]</th><th scope=col>Range (WLTP) [km]</th><th scope=col>⋯</th><th scope=col>Permissable gross weight [kg]</th><th scope=col>Maximum load capacity [kg]</th><th scope=col>Number of seats</th><th scope=col>Number of doors</th><th scope=col>Tire size [in]</th><th scope=col>Maximum speed [kph]</th><th scope=col>Boot capacity (VDA) [l]</th><th scope=col>Acceleration 0-100 kph [s]</th><th scope=col>Maximum DC charging power [kW]</th><th scope=col>mean - Energy consumption [kWh/100 km]</th></tr>\n",
       "\t<tr><th scope=col>&lt;chr&gt;</th><th scope=col>&lt;chr&gt;</th><th scope=col>&lt;chr&gt;</th><th scope=col>&lt;dbl&gt;</th><th scope=col>&lt;dbl&gt;</th><th scope=col>&lt;dbl&gt;</th><th scope=col>&lt;chr&gt;</th><th scope=col>&lt;chr&gt;</th><th scope=col>&lt;dbl&gt;</th><th scope=col>&lt;dbl&gt;</th><th scope=col>⋯</th><th scope=col>&lt;dbl&gt;</th><th scope=col>&lt;dbl&gt;</th><th scope=col>&lt;dbl&gt;</th><th scope=col>&lt;dbl&gt;</th><th scope=col>&lt;dbl&gt;</th><th scope=col>&lt;dbl&gt;</th><th scope=col>&lt;dbl&gt;</th><th scope=col>&lt;dbl&gt;</th><th scope=col>&lt;dbl&gt;</th><th scope=col>&lt;dbl&gt;</th></tr>\n",
       "</thead>\n",
       "<tbody>\n",
       "\t<tr><td>Audi e-tron 55 quattro          </td><td>Audi</td><td>e-tron 55 quattro          </td><td>345700</td><td>360</td><td>664</td><td>disc (front + rear)</td><td>4WD</td><td>95</td><td>438</td><td>⋯</td><td>3130</td><td>640</td><td>5</td><td>5</td><td>19</td><td>200</td><td>660</td><td>5.7</td><td>150</td><td>24.45</td></tr>\n",
       "\t<tr><td>Audi e-tron 50 quattro          </td><td>Audi</td><td>e-tron 50 quattro          </td><td>308400</td><td>313</td><td>540</td><td>disc (front + rear)</td><td>4WD</td><td>71</td><td>340</td><td>⋯</td><td>3040</td><td>670</td><td>5</td><td>5</td><td>19</td><td>190</td><td>660</td><td>6.8</td><td>150</td><td>23.80</td></tr>\n",
       "\t<tr><td>Audi e-tron S quattro           </td><td>Audi</td><td>e-tron S quattro           </td><td>414900</td><td>503</td><td>973</td><td>disc (front + rear)</td><td>4WD</td><td>95</td><td>364</td><td>⋯</td><td>3130</td><td>565</td><td>5</td><td>5</td><td>20</td><td>210</td><td>660</td><td>4.5</td><td>150</td><td>27.55</td></tr>\n",
       "\t<tr><td>Audi e-tron Sportback 50 quattro</td><td>Audi</td><td>e-tron Sportback 50 quattro</td><td>319700</td><td>313</td><td>540</td><td>disc (front + rear)</td><td>4WD</td><td>71</td><td>346</td><td>⋯</td><td>3040</td><td>640</td><td>5</td><td>5</td><td>19</td><td>190</td><td>615</td><td>6.8</td><td>150</td><td>23.30</td></tr>\n",
       "\t<tr><td>Audi e-tron Sportback 55 quattro</td><td>Audi</td><td>e-tron Sportback 55 quattro</td><td>357000</td><td>360</td><td>664</td><td>disc (front + rear)</td><td>4WD</td><td>95</td><td>447</td><td>⋯</td><td>3130</td><td>670</td><td>5</td><td>5</td><td>19</td><td>200</td><td>615</td><td>5.7</td><td>150</td><td>23.85</td></tr>\n",
       "\t<tr><td>Audi e-tron Sportback S quattro </td><td>Audi</td><td>e-tron Sportback S quattro </td><td>426200</td><td>503</td><td>973</td><td>disc (front + rear)</td><td>4WD</td><td>95</td><td>369</td><td>⋯</td><td>3130</td><td>565</td><td>5</td><td>5</td><td>20</td><td>210</td><td>615</td><td>4.5</td><td>150</td><td>27.20</td></tr>\n",
       "</tbody>\n",
       "</table>\n"
      ],
      "text/latex": [
       "A tibble: 6 × 25\n",
       "\\begin{tabular}{lllllllllllllllllllll}\n",
       " Car full name & Make & Model & Minimal price (gross) {[}PLN{]} & Engine power {[}KM{]} & Maximum torque {[}Nm{]} & Type of brakes & Drive type & Battery capacity {[}kWh{]} & Range (WLTP) {[}km{]} & ⋯ & Permissable gross weight {[}kg{]} & Maximum load capacity {[}kg{]} & Number of seats & Number of doors & Tire size {[}in{]} & Maximum speed {[}kph{]} & Boot capacity (VDA) {[}l{]} & Acceleration 0-100 kph {[}s{]} & Maximum DC charging power {[}kW{]} & mean - Energy consumption {[}kWh/100 km{]}\\\\\n",
       " <chr> & <chr> & <chr> & <dbl> & <dbl> & <dbl> & <chr> & <chr> & <dbl> & <dbl> & ⋯ & <dbl> & <dbl> & <dbl> & <dbl> & <dbl> & <dbl> & <dbl> & <dbl> & <dbl> & <dbl>\\\\\n",
       "\\hline\n",
       "\t Audi e-tron 55 quattro           & Audi & e-tron 55 quattro           & 345700 & 360 & 664 & disc (front + rear) & 4WD & 95 & 438 & ⋯ & 3130 & 640 & 5 & 5 & 19 & 200 & 660 & 5.7 & 150 & 24.45\\\\\n",
       "\t Audi e-tron 50 quattro           & Audi & e-tron 50 quattro           & 308400 & 313 & 540 & disc (front + rear) & 4WD & 71 & 340 & ⋯ & 3040 & 670 & 5 & 5 & 19 & 190 & 660 & 6.8 & 150 & 23.80\\\\\n",
       "\t Audi e-tron S quattro            & Audi & e-tron S quattro            & 414900 & 503 & 973 & disc (front + rear) & 4WD & 95 & 364 & ⋯ & 3130 & 565 & 5 & 5 & 20 & 210 & 660 & 4.5 & 150 & 27.55\\\\\n",
       "\t Audi e-tron Sportback 50 quattro & Audi & e-tron Sportback 50 quattro & 319700 & 313 & 540 & disc (front + rear) & 4WD & 71 & 346 & ⋯ & 3040 & 640 & 5 & 5 & 19 & 190 & 615 & 6.8 & 150 & 23.30\\\\\n",
       "\t Audi e-tron Sportback 55 quattro & Audi & e-tron Sportback 55 quattro & 357000 & 360 & 664 & disc (front + rear) & 4WD & 95 & 447 & ⋯ & 3130 & 670 & 5 & 5 & 19 & 200 & 615 & 5.7 & 150 & 23.85\\\\\n",
       "\t Audi e-tron Sportback S quattro  & Audi & e-tron Sportback S quattro  & 426200 & 503 & 973 & disc (front + rear) & 4WD & 95 & 369 & ⋯ & 3130 & 565 & 5 & 5 & 20 & 210 & 615 & 4.5 & 150 & 27.20\\\\\n",
       "\\end{tabular}\n"
      ],
      "text/markdown": [
       "\n",
       "A tibble: 6 × 25\n",
       "\n",
       "| Car full name &lt;chr&gt; | Make &lt;chr&gt; | Model &lt;chr&gt; | Minimal price (gross) [PLN] &lt;dbl&gt; | Engine power [KM] &lt;dbl&gt; | Maximum torque [Nm] &lt;dbl&gt; | Type of brakes &lt;chr&gt; | Drive type &lt;chr&gt; | Battery capacity [kWh] &lt;dbl&gt; | Range (WLTP) [km] &lt;dbl&gt; | ⋯ ⋯ | Permissable gross weight [kg] &lt;dbl&gt; | Maximum load capacity [kg] &lt;dbl&gt; | Number of seats &lt;dbl&gt; | Number of doors &lt;dbl&gt; | Tire size [in] &lt;dbl&gt; | Maximum speed [kph] &lt;dbl&gt; | Boot capacity (VDA) [l] &lt;dbl&gt; | Acceleration 0-100 kph [s] &lt;dbl&gt; | Maximum DC charging power [kW] &lt;dbl&gt; | mean - Energy consumption [kWh/100 km] &lt;dbl&gt; |\n",
       "|---|---|---|---|---|---|---|---|---|---|---|---|---|---|---|---|---|---|---|---|---|\n",
       "| Audi e-tron 55 quattro           | Audi | e-tron 55 quattro           | 345700 | 360 | 664 | disc (front + rear) | 4WD | 95 | 438 | ⋯ | 3130 | 640 | 5 | 5 | 19 | 200 | 660 | 5.7 | 150 | 24.45 |\n",
       "| Audi e-tron 50 quattro           | Audi | e-tron 50 quattro           | 308400 | 313 | 540 | disc (front + rear) | 4WD | 71 | 340 | ⋯ | 3040 | 670 | 5 | 5 | 19 | 190 | 660 | 6.8 | 150 | 23.80 |\n",
       "| Audi e-tron S quattro            | Audi | e-tron S quattro            | 414900 | 503 | 973 | disc (front + rear) | 4WD | 95 | 364 | ⋯ | 3130 | 565 | 5 | 5 | 20 | 210 | 660 | 4.5 | 150 | 27.55 |\n",
       "| Audi e-tron Sportback 50 quattro | Audi | e-tron Sportback 50 quattro | 319700 | 313 | 540 | disc (front + rear) | 4WD | 71 | 346 | ⋯ | 3040 | 640 | 5 | 5 | 19 | 190 | 615 | 6.8 | 150 | 23.30 |\n",
       "| Audi e-tron Sportback 55 quattro | Audi | e-tron Sportback 55 quattro | 357000 | 360 | 664 | disc (front + rear) | 4WD | 95 | 447 | ⋯ | 3130 | 670 | 5 | 5 | 19 | 200 | 615 | 5.7 | 150 | 23.85 |\n",
       "| Audi e-tron Sportback S quattro  | Audi | e-tron Sportback S quattro  | 426200 | 503 | 973 | disc (front + rear) | 4WD | 95 | 369 | ⋯ | 3130 | 565 | 5 | 5 | 20 | 210 | 615 | 4.5 | 150 | 27.20 |\n",
       "\n"
      ],
      "text/plain": [
       "  Car full name                    Make Model                      \n",
       "1 Audi e-tron 55 quattro           Audi e-tron 55 quattro          \n",
       "2 Audi e-tron 50 quattro           Audi e-tron 50 quattro          \n",
       "3 Audi e-tron S quattro            Audi e-tron S quattro           \n",
       "4 Audi e-tron Sportback 50 quattro Audi e-tron Sportback 50 quattro\n",
       "5 Audi e-tron Sportback 55 quattro Audi e-tron Sportback 55 quattro\n",
       "6 Audi e-tron Sportback S quattro  Audi e-tron Sportback S quattro \n",
       "  Minimal price (gross) [PLN] Engine power [KM] Maximum torque [Nm]\n",
       "1 345700                      360               664                \n",
       "2 308400                      313               540                \n",
       "3 414900                      503               973                \n",
       "4 319700                      313               540                \n",
       "5 357000                      360               664                \n",
       "6 426200                      503               973                \n",
       "  Type of brakes      Drive type Battery capacity [kWh] Range (WLTP) [km] ⋯\n",
       "1 disc (front + rear) 4WD        95                     438               ⋯\n",
       "2 disc (front + rear) 4WD        71                     340               ⋯\n",
       "3 disc (front + rear) 4WD        95                     364               ⋯\n",
       "4 disc (front + rear) 4WD        71                     346               ⋯\n",
       "5 disc (front + rear) 4WD        95                     447               ⋯\n",
       "6 disc (front + rear) 4WD        95                     369               ⋯\n",
       "  Permissable gross weight [kg] Maximum load capacity [kg] Number of seats\n",
       "1 3130                          640                        5              \n",
       "2 3040                          670                        5              \n",
       "3 3130                          565                        5              \n",
       "4 3040                          640                        5              \n",
       "5 3130                          670                        5              \n",
       "6 3130                          565                        5              \n",
       "  Number of doors Tire size [in] Maximum speed [kph] Boot capacity (VDA) [l]\n",
       "1 5               19             200                 660                    \n",
       "2 5               19             190                 660                    \n",
       "3 5               20             210                 660                    \n",
       "4 5               19             190                 615                    \n",
       "5 5               19             200                 615                    \n",
       "6 5               20             210                 615                    \n",
       "  Acceleration 0-100 kph [s] Maximum DC charging power [kW]\n",
       "1 5.7                        150                           \n",
       "2 6.8                        150                           \n",
       "3 4.5                        150                           \n",
       "4 6.8                        150                           \n",
       "5 5.7                        150                           \n",
       "6 4.5                        150                           \n",
       "  mean - Energy consumption [kWh/100 km]\n",
       "1 24.45                                 \n",
       "2 23.80                                 \n",
       "3 27.55                                 \n",
       "4 23.30                                 \n",
       "5 23.85                                 \n",
       "6 27.20                                 "
      ]
     },
     "metadata": {},
     "output_type": "display_data"
    },
    {
     "name": "stdout",
     "output_type": "stream",
     "text": [
      "tibble [53 × 25] (S3: tbl_df/tbl/data.frame)\n",
      " $ Car full name                         : chr [1:53] \"Audi e-tron 55 quattro\" \"Audi e-tron 50 quattro\" \"Audi e-tron S quattro\" \"Audi e-tron Sportback 50 quattro\" ...\n",
      " $ Make                                  : chr [1:53] \"Audi\" \"Audi\" \"Audi\" \"Audi\" ...\n",
      " $ Model                                 : chr [1:53] \"e-tron 55 quattro\" \"e-tron 50 quattro\" \"e-tron S quattro\" \"e-tron Sportback 50 quattro\" ...\n",
      " $ Minimal price (gross) [PLN]           : num [1:53] 345700 308400 414900 319700 357000 ...\n",
      " $ Engine power [KM]                     : num [1:53] 360 313 503 313 360 503 170 184 286 136 ...\n",
      " $ Maximum torque [Nm]                   : num [1:53] 664 540 973 540 664 973 250 270 400 260 ...\n",
      " $ Type of brakes                        : chr [1:53] \"disc (front + rear)\" \"disc (front + rear)\" \"disc (front + rear)\" \"disc (front + rear)\" ...\n",
      " $ Drive type                            : chr [1:53] \"4WD\" \"4WD\" \"4WD\" \"4WD\" ...\n",
      " $ Battery capacity [kWh]                : num [1:53] 95 71 95 71 95 95 42.2 42.2 80 50 ...\n",
      " $ Range (WLTP) [km]                     : num [1:53] 438 340 364 346 447 369 359 345 460 350 ...\n",
      " $ Wheelbase [cm]                        : num [1:53] 293 293 293 293 293 ...\n",
      " $ Length [cm]                           : num [1:53] 490 490 490 490 490 ...\n",
      " $ Width [cm]                            : num [1:53] 194 194 198 194 194 ...\n",
      " $ Height [cm]                           : num [1:53] 163 163 163 162 162 ...\n",
      " $ Minimal empty weight [kg]             : num [1:53] 2565 2445 2695 2445 2595 ...\n",
      " $ Permissable gross weight [kg]         : num [1:53] 3130 3040 3130 3040 3130 ...\n",
      " $ Maximum load capacity [kg]            : num [1:53] 640 670 565 640 670 565 440 440 540 459 ...\n",
      " $ Number of seats                       : num [1:53] 5 5 5 5 5 5 4 4 5 5 ...\n",
      " $ Number of doors                       : num [1:53] 5 5 5 5 5 5 5 5 5 5 ...\n",
      " $ Tire size [in]                        : num [1:53] 19 19 20 19 19 20 19 20 19 16 ...\n",
      " $ Maximum speed [kph]                   : num [1:53] 200 190 210 190 200 210 160 160 180 150 ...\n",
      " $ Boot capacity (VDA) [l]               : num [1:53] 660 660 660 615 615 615 260 260 510 380 ...\n",
      " $ Acceleration 0-100 kph [s]            : num [1:53] 5.7 6.8 4.5 6.8 5.7 4.5 8.1 6.9 6.8 9.5 ...\n",
      " $ Maximum DC charging power [kW]        : num [1:53] 150 150 150 150 150 150 50 50 150 100 ...\n",
      " $ mean - Energy consumption [kWh/100 km]: num [1:53] 24.4 23.8 27.6 23.3 23.9 ...\n"
     ]
    }
   ],
   "source": [
    "data <- read_excel(\"../Dados/Bruto/FEV-data-Excel.xlsx\")\n",
    "\n",
    "head(data)\n",
    "str(data)"
   ]
  },
  {
   "cell_type": "code",
   "execution_count": 3,
   "metadata": {
    "vscode": {
     "languageId": "r"
    }
   },
   "outputs": [
    {
     "data": {
      "text/html": [
       "<table class=\"dataframe\">\n",
       "<caption>A tibble: 6 × 25</caption>\n",
       "<thead>\n",
       "\t<tr><th scope=col>Carro</th><th scope=col>Marca</th><th scope=col>Modelo</th><th scope=col>PrecoMax</th><th scope=col>PotenciaMotor</th><th scope=col>TorqueMax</th><th scope=col>Freios</th><th scope=col>Tracao</th><th scope=col>CapacidadeBateria</th><th scope=col>Autonomia</th><th scope=col>⋯</th><th scope=col>PesoMax</th><th scope=col>CargaMax</th><th scope=col>NumAssentos</th><th scope=col>NumPorta</th><th scope=col>TamanhoPneus</th><th scope=col>VeloMax</th><th scope=col>TamanhoPorta-Malas</th><th scope=col>Aceleracao</th><th scope=col>PotenciaMaximaBat</th><th scope=col>ConsumoMedio</th></tr>\n",
       "\t<tr><th scope=col>&lt;fct&gt;</th><th scope=col>&lt;fct&gt;</th><th scope=col>&lt;fct&gt;</th><th scope=col>&lt;dbl&gt;</th><th scope=col>&lt;dbl&gt;</th><th scope=col>&lt;dbl&gt;</th><th scope=col>&lt;fct&gt;</th><th scope=col>&lt;fct&gt;</th><th scope=col>&lt;dbl&gt;</th><th scope=col>&lt;dbl&gt;</th><th scope=col>⋯</th><th scope=col>&lt;dbl&gt;</th><th scope=col>&lt;dbl&gt;</th><th scope=col>&lt;dbl&gt;</th><th scope=col>&lt;dbl&gt;</th><th scope=col>&lt;dbl&gt;</th><th scope=col>&lt;dbl&gt;</th><th scope=col>&lt;dbl&gt;</th><th scope=col>&lt;dbl&gt;</th><th scope=col>&lt;dbl&gt;</th><th scope=col>&lt;dbl&gt;</th></tr>\n",
       "</thead>\n",
       "<tbody>\n",
       "\t<tr><td>Audi e-tron 55 quattro          </td><td>Audi</td><td>e-tron 55 quattro          </td><td>345700</td><td>360</td><td>664</td><td>disc (front + rear)</td><td>4WD</td><td>95</td><td>438</td><td>⋯</td><td>3130</td><td>640</td><td>5</td><td>5</td><td>19</td><td>200</td><td>660</td><td>5.7</td><td>150</td><td>24.45</td></tr>\n",
       "\t<tr><td>Audi e-tron 50 quattro          </td><td>Audi</td><td>e-tron 50 quattro          </td><td>308400</td><td>313</td><td>540</td><td>disc (front + rear)</td><td>4WD</td><td>71</td><td>340</td><td>⋯</td><td>3040</td><td>670</td><td>5</td><td>5</td><td>19</td><td>190</td><td>660</td><td>6.8</td><td>150</td><td>23.80</td></tr>\n",
       "\t<tr><td>Audi e-tron S quattro           </td><td>Audi</td><td>e-tron S quattro           </td><td>414900</td><td>503</td><td>973</td><td>disc (front + rear)</td><td>4WD</td><td>95</td><td>364</td><td>⋯</td><td>3130</td><td>565</td><td>5</td><td>5</td><td>20</td><td>210</td><td>660</td><td>4.5</td><td>150</td><td>27.55</td></tr>\n",
       "\t<tr><td>Audi e-tron Sportback 50 quattro</td><td>Audi</td><td>e-tron Sportback 50 quattro</td><td>319700</td><td>313</td><td>540</td><td>disc (front + rear)</td><td>4WD</td><td>71</td><td>346</td><td>⋯</td><td>3040</td><td>640</td><td>5</td><td>5</td><td>19</td><td>190</td><td>615</td><td>6.8</td><td>150</td><td>23.30</td></tr>\n",
       "\t<tr><td>Audi e-tron Sportback 55 quattro</td><td>Audi</td><td>e-tron Sportback 55 quattro</td><td>357000</td><td>360</td><td>664</td><td>disc (front + rear)</td><td>4WD</td><td>95</td><td>447</td><td>⋯</td><td>3130</td><td>670</td><td>5</td><td>5</td><td>19</td><td>200</td><td>615</td><td>5.7</td><td>150</td><td>23.85</td></tr>\n",
       "\t<tr><td>Audi e-tron Sportback S quattro </td><td>Audi</td><td>e-tron Sportback S quattro </td><td>426200</td><td>503</td><td>973</td><td>disc (front + rear)</td><td>4WD</td><td>95</td><td>369</td><td>⋯</td><td>3130</td><td>565</td><td>5</td><td>5</td><td>20</td><td>210</td><td>615</td><td>4.5</td><td>150</td><td>27.20</td></tr>\n",
       "</tbody>\n",
       "</table>\n"
      ],
      "text/latex": [
       "A tibble: 6 × 25\n",
       "\\begin{tabular}{lllllllllllllllllllll}\n",
       " Carro & Marca & Modelo & PrecoMax & PotenciaMotor & TorqueMax & Freios & Tracao & CapacidadeBateria & Autonomia & ⋯ & PesoMax & CargaMax & NumAssentos & NumPorta & TamanhoPneus & VeloMax & TamanhoPorta-Malas & Aceleracao & PotenciaMaximaBat & ConsumoMedio\\\\\n",
       " <fct> & <fct> & <fct> & <dbl> & <dbl> & <dbl> & <fct> & <fct> & <dbl> & <dbl> & ⋯ & <dbl> & <dbl> & <dbl> & <dbl> & <dbl> & <dbl> & <dbl> & <dbl> & <dbl> & <dbl>\\\\\n",
       "\\hline\n",
       "\t Audi e-tron 55 quattro           & Audi & e-tron 55 quattro           & 345700 & 360 & 664 & disc (front + rear) & 4WD & 95 & 438 & ⋯ & 3130 & 640 & 5 & 5 & 19 & 200 & 660 & 5.7 & 150 & 24.45\\\\\n",
       "\t Audi e-tron 50 quattro           & Audi & e-tron 50 quattro           & 308400 & 313 & 540 & disc (front + rear) & 4WD & 71 & 340 & ⋯ & 3040 & 670 & 5 & 5 & 19 & 190 & 660 & 6.8 & 150 & 23.80\\\\\n",
       "\t Audi e-tron S quattro            & Audi & e-tron S quattro            & 414900 & 503 & 973 & disc (front + rear) & 4WD & 95 & 364 & ⋯ & 3130 & 565 & 5 & 5 & 20 & 210 & 660 & 4.5 & 150 & 27.55\\\\\n",
       "\t Audi e-tron Sportback 50 quattro & Audi & e-tron Sportback 50 quattro & 319700 & 313 & 540 & disc (front + rear) & 4WD & 71 & 346 & ⋯ & 3040 & 640 & 5 & 5 & 19 & 190 & 615 & 6.8 & 150 & 23.30\\\\\n",
       "\t Audi e-tron Sportback 55 quattro & Audi & e-tron Sportback 55 quattro & 357000 & 360 & 664 & disc (front + rear) & 4WD & 95 & 447 & ⋯ & 3130 & 670 & 5 & 5 & 19 & 200 & 615 & 5.7 & 150 & 23.85\\\\\n",
       "\t Audi e-tron Sportback S quattro  & Audi & e-tron Sportback S quattro  & 426200 & 503 & 973 & disc (front + rear) & 4WD & 95 & 369 & ⋯ & 3130 & 565 & 5 & 5 & 20 & 210 & 615 & 4.5 & 150 & 27.20\\\\\n",
       "\\end{tabular}\n"
      ],
      "text/markdown": [
       "\n",
       "A tibble: 6 × 25\n",
       "\n",
       "| Carro &lt;fct&gt; | Marca &lt;fct&gt; | Modelo &lt;fct&gt; | PrecoMax &lt;dbl&gt; | PotenciaMotor &lt;dbl&gt; | TorqueMax &lt;dbl&gt; | Freios &lt;fct&gt; | Tracao &lt;fct&gt; | CapacidadeBateria &lt;dbl&gt; | Autonomia &lt;dbl&gt; | ⋯ ⋯ | PesoMax &lt;dbl&gt; | CargaMax &lt;dbl&gt; | NumAssentos &lt;dbl&gt; | NumPorta &lt;dbl&gt; | TamanhoPneus &lt;dbl&gt; | VeloMax &lt;dbl&gt; | TamanhoPorta-Malas &lt;dbl&gt; | Aceleracao &lt;dbl&gt; | PotenciaMaximaBat &lt;dbl&gt; | ConsumoMedio &lt;dbl&gt; |\n",
       "|---|---|---|---|---|---|---|---|---|---|---|---|---|---|---|---|---|---|---|---|---|\n",
       "| Audi e-tron 55 quattro           | Audi | e-tron 55 quattro           | 345700 | 360 | 664 | disc (front + rear) | 4WD | 95 | 438 | ⋯ | 3130 | 640 | 5 | 5 | 19 | 200 | 660 | 5.7 | 150 | 24.45 |\n",
       "| Audi e-tron 50 quattro           | Audi | e-tron 50 quattro           | 308400 | 313 | 540 | disc (front + rear) | 4WD | 71 | 340 | ⋯ | 3040 | 670 | 5 | 5 | 19 | 190 | 660 | 6.8 | 150 | 23.80 |\n",
       "| Audi e-tron S quattro            | Audi | e-tron S quattro            | 414900 | 503 | 973 | disc (front + rear) | 4WD | 95 | 364 | ⋯ | 3130 | 565 | 5 | 5 | 20 | 210 | 660 | 4.5 | 150 | 27.55 |\n",
       "| Audi e-tron Sportback 50 quattro | Audi | e-tron Sportback 50 quattro | 319700 | 313 | 540 | disc (front + rear) | 4WD | 71 | 346 | ⋯ | 3040 | 640 | 5 | 5 | 19 | 190 | 615 | 6.8 | 150 | 23.30 |\n",
       "| Audi e-tron Sportback 55 quattro | Audi | e-tron Sportback 55 quattro | 357000 | 360 | 664 | disc (front + rear) | 4WD | 95 | 447 | ⋯ | 3130 | 670 | 5 | 5 | 19 | 200 | 615 | 5.7 | 150 | 23.85 |\n",
       "| Audi e-tron Sportback S quattro  | Audi | e-tron Sportback S quattro  | 426200 | 503 | 973 | disc (front + rear) | 4WD | 95 | 369 | ⋯ | 3130 | 565 | 5 | 5 | 20 | 210 | 615 | 4.5 | 150 | 27.20 |\n",
       "\n"
      ],
      "text/plain": [
       "  Carro                            Marca Modelo                      PrecoMax\n",
       "1 Audi e-tron 55 quattro           Audi  e-tron 55 quattro           345700  \n",
       "2 Audi e-tron 50 quattro           Audi  e-tron 50 quattro           308400  \n",
       "3 Audi e-tron S quattro            Audi  e-tron S quattro            414900  \n",
       "4 Audi e-tron Sportback 50 quattro Audi  e-tron Sportback 50 quattro 319700  \n",
       "5 Audi e-tron Sportback 55 quattro Audi  e-tron Sportback 55 quattro 357000  \n",
       "6 Audi e-tron Sportback S quattro  Audi  e-tron Sportback S quattro  426200  \n",
       "  PotenciaMotor TorqueMax Freios              Tracao CapacidadeBateria\n",
       "1 360           664       disc (front + rear) 4WD    95               \n",
       "2 313           540       disc (front + rear) 4WD    71               \n",
       "3 503           973       disc (front + rear) 4WD    95               \n",
       "4 313           540       disc (front + rear) 4WD    71               \n",
       "5 360           664       disc (front + rear) 4WD    95               \n",
       "6 503           973       disc (front + rear) 4WD    95               \n",
       "  Autonomia ⋯ PesoMax CargaMax NumAssentos NumPorta TamanhoPneus VeloMax\n",
       "1 438       ⋯ 3130    640      5           5        19           200    \n",
       "2 340       ⋯ 3040    670      5           5        19           190    \n",
       "3 364       ⋯ 3130    565      5           5        20           210    \n",
       "4 346       ⋯ 3040    640      5           5        19           190    \n",
       "5 447       ⋯ 3130    670      5           5        19           200    \n",
       "6 369       ⋯ 3130    565      5           5        20           210    \n",
       "  TamanhoPorta-Malas Aceleracao PotenciaMaximaBat ConsumoMedio\n",
       "1 660                5.7        150               24.45       \n",
       "2 660                6.8        150               23.80       \n",
       "3 660                4.5        150               27.55       \n",
       "4 615                6.8        150               23.30       \n",
       "5 615                5.7        150               23.85       \n",
       "6 615                4.5        150               27.20       "
      ]
     },
     "metadata": {},
     "output_type": "display_data"
    }
   ],
   "source": [
    "data <- data %>%\n",
    "    mutate_if(is.character, as.factor) %>%\n",
    "    rename(\n",
    "        'Carro' = 'Car full name',\n",
    "        'Marca' = 'Make',\n",
    "        'Modelo' = 'Model',\n",
    "        'PrecoMax' = 'Minimal price (gross) [PLN]',\n",
    "        'PotenciaMotor' = 'Engine power [KM]',\n",
    "        'TorqueMax' = 'Maximum torque [Nm]',\n",
    "        'Freios' = 'Type of brakes',\n",
    "        'Tracao' = 'Drive type',\n",
    "        'CapacidadeBateria' = 'Battery capacity [kWh]',\n",
    "        'Autonomia' = 'Range (WLTP) [km]',\n",
    "        'Entre-eixos' = 'Wheelbase [cm]',\n",
    "        'Comprimento' = 'Length [cm]',\n",
    "        'Largura' = 'Width [cm]',\n",
    "        'Altura' = 'Height [cm]',\n",
    "        'PesoMin' = 'Minimal empty weight [kg]',\n",
    "        'PesoMax' = 'Permissable gross weight [kg]',\n",
    "        'CargaMax' = 'Maximum load capacity [kg]',\n",
    "        'NumAssentos' = 'Number of seats',\n",
    "        'NumPorta' = 'Number of doors',\n",
    "        'TamanhoPneus' = 'Tire size [in]',\n",
    "        'VeloMax' = 'Maximum speed [kph]',\n",
    "        'TamanhoPorta-Malas' = 'Boot capacity (VDA) [l]',\n",
    "        'Aceleracao' = 'Acceleration 0-100 kph [s]',\n",
    "        'PotenciaMaximaBat' = 'Maximum DC charging power [kW]',\n",
    "        'ConsumoMedio' = 'mean - Energy consumption [kWh/100 km]'\n",
    "\n",
    "    )\n",
    "\n",
    "head(data)"
   ]
  },
  {
   "cell_type": "markdown",
   "metadata": {},
   "source": [
    "## Verificando se há valores faltantes"
   ]
  },
  {
   "cell_type": "code",
   "execution_count": 4,
   "metadata": {
    "vscode": {
     "languageId": "r"
    }
   },
   "outputs": [
    {
     "name": "stderr",
     "output_type": "stream",
     "text": [
      "Warning message:\n",
      "“\u001b[1m\u001b[22m`funs()` was deprecated in dplyr 0.8.0.\n",
      "\u001b[36mℹ\u001b[39m Please use a list of either functions or lambdas:\n",
      "\n",
      "# Simple named list: list(mean = mean, median = median)\n",
      "\n",
      "# Auto named with `tibble::lst()`: tibble::lst(mean, median)\n",
      "\n",
      "# Using lambdas list(~ mean(., trim = .2), ~ median(., na.rm = TRUE))”\n"
     ]
    },
    {
     "data": {
      "text/html": [
       "<table class=\"dataframe\">\n",
       "<caption>A tibble: 6 × 2</caption>\n",
       "<thead>\n",
       "\t<tr><th scope=col>Colunas</th><th scope=col>QntNA</th></tr>\n",
       "\t<tr><th scope=col>&lt;chr&gt;</th><th scope=col>&lt;int&gt;</th></tr>\n",
       "</thead>\n",
       "<tbody>\n",
       "\t<tr><td>ConsumoMedio      </td><td>9</td></tr>\n",
       "\t<tr><td>PesoMax           </td><td>8</td></tr>\n",
       "\t<tr><td>CargaMax          </td><td>8</td></tr>\n",
       "\t<tr><td>Aceleracao        </td><td>3</td></tr>\n",
       "\t<tr><td>Freios            </td><td>1</td></tr>\n",
       "\t<tr><td>TamanhoPorta-Malas</td><td>1</td></tr>\n",
       "</tbody>\n",
       "</table>\n"
      ],
      "text/latex": [
       "A tibble: 6 × 2\n",
       "\\begin{tabular}{ll}\n",
       " Colunas & QntNA\\\\\n",
       " <chr> & <int>\\\\\n",
       "\\hline\n",
       "\t ConsumoMedio       & 9\\\\\n",
       "\t PesoMax            & 8\\\\\n",
       "\t CargaMax           & 8\\\\\n",
       "\t Aceleracao         & 3\\\\\n",
       "\t Freios             & 1\\\\\n",
       "\t TamanhoPorta-Malas & 1\\\\\n",
       "\\end{tabular}\n"
      ],
      "text/markdown": [
       "\n",
       "A tibble: 6 × 2\n",
       "\n",
       "| Colunas &lt;chr&gt; | QntNA &lt;int&gt; |\n",
       "|---|---|\n",
       "| ConsumoMedio       | 9 |\n",
       "| PesoMax            | 8 |\n",
       "| CargaMax           | 8 |\n",
       "| Aceleracao         | 3 |\n",
       "| Freios             | 1 |\n",
       "| TamanhoPorta-Malas | 1 |\n",
       "\n"
      ],
      "text/plain": [
       "  Colunas            QntNA\n",
       "1 ConsumoMedio       9    \n",
       "2 PesoMax            8    \n",
       "3 CargaMax           8    \n",
       "4 Aceleracao         3    \n",
       "5 Freios             1    \n",
       "6 TamanhoPorta-Malas 1    "
      ]
     },
     "metadata": {},
     "output_type": "display_data"
    }
   ],
   "source": [
    "qnt_na <- function(df) {\n",
    "    df %>%\n",
    "        summarise_all(funs(sum(is.na(.)))) %>%\n",
    "        pivot_longer(cols = everything(), names_to = 'Colunas', values_to = 'QntNA') %>%\n",
    "        filter(QntNA > 0) %>%\n",
    "        arrange(desc(QntNA))\n",
    "}\n",
    "\n",
    "qnt_na(data)"
   ]
  },
  {
   "cell_type": "markdown",
   "metadata": {},
   "source": [
    "O meu objetivo com esse trabalho é tentar prever o consumo médio de energia de um carro elétrico, então vou remover as linhas que possuem valores faltantes na coluna 'Consumo Médio [kWh/100 km]' e verificar se acabo por resolver o problema de valores nulos de outras colunas"
   ]
  },
  {
   "cell_type": "code",
   "execution_count": 5,
   "metadata": {
    "vscode": {
     "languageId": "r"
    }
   },
   "outputs": [
    {
     "name": "stderr",
     "output_type": "stream",
     "text": [
      "Warning message:\n",
      "“\u001b[1m\u001b[22m`funs()` was deprecated in dplyr 0.8.0.\n",
      "\u001b[36mℹ\u001b[39m Please use a list of either functions or lambdas:\n",
      "\n",
      "# Simple named list: list(mean = mean, median = median)\n",
      "\n",
      "# Auto named with `tibble::lst()`: tibble::lst(mean, median)\n",
      "\n",
      "# Using lambdas list(~ mean(., trim = .2), ~ median(., na.rm = TRUE))”\n"
     ]
    },
    {
     "data": {
      "text/html": [
       "<table class=\"dataframe\">\n",
       "<caption>A tibble: 3 × 2</caption>\n",
       "<thead>\n",
       "\t<tr><th scope=col>Colunas</th><th scope=col>QntNA</th></tr>\n",
       "\t<tr><th scope=col>&lt;chr&gt;</th><th scope=col>&lt;int&gt;</th></tr>\n",
       "</thead>\n",
       "<tbody>\n",
       "\t<tr><td>Aceleracao        </td><td>2</td></tr>\n",
       "\t<tr><td>Freios            </td><td>1</td></tr>\n",
       "\t<tr><td>TamanhoPorta-Malas</td><td>1</td></tr>\n",
       "</tbody>\n",
       "</table>\n"
      ],
      "text/latex": [
       "A tibble: 3 × 2\n",
       "\\begin{tabular}{ll}\n",
       " Colunas & QntNA\\\\\n",
       " <chr> & <int>\\\\\n",
       "\\hline\n",
       "\t Aceleracao         & 2\\\\\n",
       "\t Freios             & 1\\\\\n",
       "\t TamanhoPorta-Malas & 1\\\\\n",
       "\\end{tabular}\n"
      ],
      "text/markdown": [
       "\n",
       "A tibble: 3 × 2\n",
       "\n",
       "| Colunas &lt;chr&gt; | QntNA &lt;int&gt; |\n",
       "|---|---|\n",
       "| Aceleracao         | 2 |\n",
       "| Freios             | 1 |\n",
       "| TamanhoPorta-Malas | 1 |\n",
       "\n"
      ],
      "text/plain": [
       "  Colunas            QntNA\n",
       "1 Aceleracao         2    \n",
       "2 Freios             1    \n",
       "3 TamanhoPorta-Malas 1    "
      ]
     },
     "metadata": {},
     "output_type": "display_data"
    }
   ],
   "source": [
    "qnt_na(\n",
    "    data %>%\n",
    "        filter(!(is.na(`ConsumoMedio`)))\n",
    ")"
   ]
  },
  {
   "cell_type": "code",
   "execution_count": 6,
   "metadata": {
    "vscode": {
     "languageId": "r"
    }
   },
   "outputs": [],
   "source": [
    "data <- data %>%\n",
    "    filter(!(is.na(`ConsumoMedio`)))"
   ]
  },
  {
   "cell_type": "markdown",
   "metadata": {},
   "source": [
    "Ao remover os valores NA da coluna target (Consumo Médio [kWh/100 km]) conseguimos reduzir um pouco os valores NA das outras colunas, mas ainda temos muitos valores NA. Vamos verificar o caso desses."
   ]
  },
  {
   "cell_type": "code",
   "execution_count": 7,
   "metadata": {
    "vscode": {
     "languageId": "r"
    }
   },
   "outputs": [
    {
     "data": {
      "text/html": [
       "<table class=\"dataframe\">\n",
       "<caption>A tibble: 2 × 25</caption>\n",
       "<thead>\n",
       "\t<tr><th scope=col>Carro</th><th scope=col>Marca</th><th scope=col>Modelo</th><th scope=col>PrecoMax</th><th scope=col>PotenciaMotor</th><th scope=col>TorqueMax</th><th scope=col>Freios</th><th scope=col>Tracao</th><th scope=col>CapacidadeBateria</th><th scope=col>Autonomia</th><th scope=col>⋯</th><th scope=col>PesoMax</th><th scope=col>CargaMax</th><th scope=col>NumAssentos</th><th scope=col>NumPorta</th><th scope=col>TamanhoPneus</th><th scope=col>VeloMax</th><th scope=col>TamanhoPorta-Malas</th><th scope=col>Aceleracao</th><th scope=col>PotenciaMaximaBat</th><th scope=col>ConsumoMedio</th></tr>\n",
       "\t<tr><th scope=col>&lt;fct&gt;</th><th scope=col>&lt;fct&gt;</th><th scope=col>&lt;fct&gt;</th><th scope=col>&lt;dbl&gt;</th><th scope=col>&lt;dbl&gt;</th><th scope=col>&lt;dbl&gt;</th><th scope=col>&lt;fct&gt;</th><th scope=col>&lt;fct&gt;</th><th scope=col>&lt;dbl&gt;</th><th scope=col>&lt;dbl&gt;</th><th scope=col>⋯</th><th scope=col>&lt;dbl&gt;</th><th scope=col>&lt;dbl&gt;</th><th scope=col>&lt;dbl&gt;</th><th scope=col>&lt;dbl&gt;</th><th scope=col>&lt;dbl&gt;</th><th scope=col>&lt;dbl&gt;</th><th scope=col>&lt;dbl&gt;</th><th scope=col>&lt;dbl&gt;</th><th scope=col>&lt;dbl&gt;</th><th scope=col>&lt;dbl&gt;</th></tr>\n",
       "</thead>\n",
       "<tbody>\n",
       "\t<tr><td>Mercedes-Benz EQV (long)</td><td>Mercedes-Benz</td><td>EQV (long)    </td><td>339480</td><td>204</td><td>362</td><td>NA                 </td><td>2WD (front)</td><td>90</td><td>356</td><td>⋯</td><td>3500</td><td>865</td><td>6</td><td>5</td><td>17</td><td>160</td><td> NA</td><td>NA</td><td>110</td><td>28.2</td></tr>\n",
       "\t<tr><td>Nissan e-NV200 evalia   </td><td>Nissan       </td><td>e-NV200 evalia</td><td>164328</td><td>109</td><td>254</td><td>disc (front + rear)</td><td>2WD (front)</td><td>40</td><td>200</td><td>⋯</td><td>2250</td><td>658</td><td>5</td><td>5</td><td>15</td><td>123</td><td>870</td><td>NA</td><td> 50</td><td>25.9</td></tr>\n",
       "</tbody>\n",
       "</table>\n"
      ],
      "text/latex": [
       "A tibble: 2 × 25\n",
       "\\begin{tabular}{lllllllllllllllllllll}\n",
       " Carro & Marca & Modelo & PrecoMax & PotenciaMotor & TorqueMax & Freios & Tracao & CapacidadeBateria & Autonomia & ⋯ & PesoMax & CargaMax & NumAssentos & NumPorta & TamanhoPneus & VeloMax & TamanhoPorta-Malas & Aceleracao & PotenciaMaximaBat & ConsumoMedio\\\\\n",
       " <fct> & <fct> & <fct> & <dbl> & <dbl> & <dbl> & <fct> & <fct> & <dbl> & <dbl> & ⋯ & <dbl> & <dbl> & <dbl> & <dbl> & <dbl> & <dbl> & <dbl> & <dbl> & <dbl> & <dbl>\\\\\n",
       "\\hline\n",
       "\t Mercedes-Benz EQV (long) & Mercedes-Benz & EQV (long)     & 339480 & 204 & 362 & NA                  & 2WD (front) & 90 & 356 & ⋯ & 3500 & 865 & 6 & 5 & 17 & 160 &  NA & NA & 110 & 28.2\\\\\n",
       "\t Nissan e-NV200 evalia    & Nissan        & e-NV200 evalia & 164328 & 109 & 254 & disc (front + rear) & 2WD (front) & 40 & 200 & ⋯ & 2250 & 658 & 5 & 5 & 15 & 123 & 870 & NA &  50 & 25.9\\\\\n",
       "\\end{tabular}\n"
      ],
      "text/markdown": [
       "\n",
       "A tibble: 2 × 25\n",
       "\n",
       "| Carro &lt;fct&gt; | Marca &lt;fct&gt; | Modelo &lt;fct&gt; | PrecoMax &lt;dbl&gt; | PotenciaMotor &lt;dbl&gt; | TorqueMax &lt;dbl&gt; | Freios &lt;fct&gt; | Tracao &lt;fct&gt; | CapacidadeBateria &lt;dbl&gt; | Autonomia &lt;dbl&gt; | ⋯ ⋯ | PesoMax &lt;dbl&gt; | CargaMax &lt;dbl&gt; | NumAssentos &lt;dbl&gt; | NumPorta &lt;dbl&gt; | TamanhoPneus &lt;dbl&gt; | VeloMax &lt;dbl&gt; | TamanhoPorta-Malas &lt;dbl&gt; | Aceleracao &lt;dbl&gt; | PotenciaMaximaBat &lt;dbl&gt; | ConsumoMedio &lt;dbl&gt; |\n",
       "|---|---|---|---|---|---|---|---|---|---|---|---|---|---|---|---|---|---|---|---|---|\n",
       "| Mercedes-Benz EQV (long) | Mercedes-Benz | EQV (long)     | 339480 | 204 | 362 | NA                  | 2WD (front) | 90 | 356 | ⋯ | 3500 | 865 | 6 | 5 | 17 | 160 |  NA | NA | 110 | 28.2 |\n",
       "| Nissan e-NV200 evalia    | Nissan        | e-NV200 evalia | 164328 | 109 | 254 | disc (front + rear) | 2WD (front) | 40 | 200 | ⋯ | 2250 | 658 | 5 | 5 | 15 | 123 | 870 | NA |  50 | 25.9 |\n",
       "\n"
      ],
      "text/plain": [
       "  Carro                    Marca         Modelo         PrecoMax PotenciaMotor\n",
       "1 Mercedes-Benz EQV (long) Mercedes-Benz EQV (long)     339480   204          \n",
       "2 Nissan e-NV200 evalia    Nissan        e-NV200 evalia 164328   109          \n",
       "  TorqueMax Freios              Tracao      CapacidadeBateria Autonomia ⋯\n",
       "1 362       NA                  2WD (front) 90                356       ⋯\n",
       "2 254       disc (front + rear) 2WD (front) 40                200       ⋯\n",
       "  PesoMax CargaMax NumAssentos NumPorta TamanhoPneus VeloMax TamanhoPorta-Malas\n",
       "1 3500    865      6           5        17           160      NA               \n",
       "2 2250    658      5           5        15           123     870               \n",
       "  Aceleracao PotenciaMaximaBat ConsumoMedio\n",
       "1 NA         110               28.2        \n",
       "2 NA          50               25.9        "
      ]
     },
     "metadata": {},
     "output_type": "display_data"
    }
   ],
   "source": [
    "data %>%\n",
    "    filter_all(any_vars(is.na(.)))"
   ]
  },
  {
   "cell_type": "markdown",
   "metadata": {},
   "source": [
    "## Aceleração 0-100 kph [s]"
   ]
  },
  {
   "attachments": {},
   "cell_type": "markdown",
   "metadata": {},
   "source": [
    "Para realizar a imputação na variável Aceleração 0-100 kph [s], foi utilizado o método de regressão linear para tentar aferir alguma relação entre as variáves que possuem valores faltantes e as que não possuem. A Regressão concluiu que existe um relação estatística entre a Potencia do Motor [kW] e a Aceleração 0-100 kph [s]. Vamos, portanto, criar um modelo de regressão linear para prever os valores faltantes da variável Aceleração 0-100 kph [s]."
   ]
  },
  {
   "cell_type": "code",
   "execution_count": 8,
   "metadata": {
    "vscode": {
     "languageId": "r"
    }
   },
   "outputs": [
    {
     "data": {
      "text/plain": [
       "\n",
       "Call:\n",
       "lm(formula = Aceleracao ~ PotenciaMotor + TorqueMax + CapacidadeBateria + \n",
       "    Autonomia + PesoMin + PesoMax + VeloMax, data = data)\n",
       "\n",
       "Residuals:\n",
       "     Min       1Q   Median       3Q      Max \n",
       "-1.92304 -0.55192 -0.01871  0.71132  1.75397 \n",
       "\n",
       "Coefficients:\n",
       "                   Estimate Std. Error t value Pr(>|t|)    \n",
       "(Intercept)       15.599528   2.382014   6.549 1.68e-07 ***\n",
       "PotenciaMotor     -0.013296   0.006352  -2.093   0.0439 *  \n",
       "TorqueMax          0.001144   0.002896   0.395   0.6953    \n",
       "CapacidadeBateria  0.053542   0.044554   1.202   0.2378    \n",
       "Autonomia         -0.009414   0.005168  -1.822   0.0773 .  \n",
       "PesoMin           -0.004513   0.002586  -1.745   0.0900 .  \n",
       "PesoMax            0.002862   0.001780   1.608   0.1171    \n",
       "VeloMax           -0.018555   0.016690  -1.112   0.2740    \n",
       "---\n",
       "Signif. codes:  0 ‘***’ 0.001 ‘**’ 0.01 ‘*’ 0.05 ‘.’ 0.1 ‘ ’ 1\n",
       "\n",
       "Residual standard error: 1.055 on 34 degrees of freedom\n",
       "  (2 observations deleted due to missingness)\n",
       "Multiple R-squared:  0.8604,\tAdjusted R-squared:  0.8317 \n",
       "F-statistic: 29.94 on 7 and 34 DF,  p-value: 9.31e-13\n"
      ]
     },
     "metadata": {},
     "output_type": "display_data"
    }
   ],
   "source": [
    "\n",
    "summary(lm(\n",
    "    `Aceleracao` ~ `PotenciaMotor`\n",
    "                                + `TorqueMax`\n",
    "                                + `CapacidadeBateria`\n",
    "                                + `Autonomia`\n",
    "                                + `PesoMin`\n",
    "                                + `PesoMax`\n",
    "                                + `VeloMax`,\n",
    "    data = data\n",
    "))"
   ]
  },
  {
   "cell_type": "code",
   "execution_count": 9,
   "metadata": {
    "vscode": {
     "languageId": "r"
    }
   },
   "outputs": [
    {
     "data": {
      "image/png": "[encoded data removed]",
      "text/plain": [
       "plot without title"
      ]
     },
     "metadata": {
      "image/png": {
       "height": 420,
       "width": 420
      }
     },
     "output_type": "display_data"
    }
   ],
   "source": [
    "plot(\n",
    "    `Aceleracao` ~ `PotenciaMotor`,\n",
    "    data = data\n",
    ")"
   ]
  },
  {
   "cell_type": "code",
   "execution_count": 10,
   "metadata": {
    "vscode": {
     "languageId": "r"
    }
   },
   "outputs": [
    {
     "name": "stdout",
     "output_type": "stream",
     "text": [
      "[1] 0.7922875\n"
     ]
    }
   ],
   "source": [
    "separate_data <- function(df, props) {\n",
    "    df_split <- initial_split(df, prop = props)\n",
    "\n",
    "    df_train <- training(df_split)\n",
    "    df_test <- testing(df_split)\n",
    "\n",
    "    return(list(df_train, df_test))\n",
    "}\n",
    "\n",
    "r2 <- function(test_data, pred_data) {\n",
    "    1 - (sum((test_data - pred_data)^2) / sum((test_data - mean(test_data))^2))\n",
    "}\n",
    "\n",
    "train_model <- function(data, col_target) {\n",
    "    model_data <- separate_data(data, 0.8)\n",
    "    modelo <- lm(`Aceleracao` ~ `PotenciaMotor`, data = model_data[[1]])\n",
    "    pred <- predict(modelo, model_data[[2]])\n",
    "    R2 <- r2(model_data[[2]]$`Aceleracao`, pred)\n",
    "\n",
    "    return(list(modelo, R2))\n",
    "}\n",
    "\n",
    "\n",
    "model <- train_model(\n",
    "    data %>% na.omit()\n",
    ")\n",
    "\n",
    "print(model[[2]])"
   ]
  },
  {
   "cell_type": "code",
   "execution_count": 11,
   "metadata": {
    "vscode": {
     "languageId": "r"
    }
   },
   "outputs": [
    {
     "data": {
      "text/html": [
       "<table class=\"dataframe\">\n",
       "<caption>A tibble: 6 × 25</caption>\n",
       "<thead>\n",
       "\t<tr><th scope=col>Carro</th><th scope=col>Marca</th><th scope=col>Modelo</th><th scope=col>PrecoMax</th><th scope=col>PotenciaMotor</th><th scope=col>TorqueMax</th><th scope=col>Freios</th><th scope=col>Tracao</th><th scope=col>CapacidadeBateria</th><th scope=col>Autonomia</th><th scope=col>⋯</th><th scope=col>PesoMax</th><th scope=col>CargaMax</th><th scope=col>NumAssentos</th><th scope=col>NumPorta</th><th scope=col>TamanhoPneus</th><th scope=col>VeloMax</th><th scope=col>TamanhoPorta-Malas</th><th scope=col>Aceleracao</th><th scope=col>PotenciaMaximaBat</th><th scope=col>ConsumoMedio</th></tr>\n",
       "\t<tr><th scope=col>&lt;fct&gt;</th><th scope=col>&lt;fct&gt;</th><th scope=col>&lt;fct&gt;</th><th scope=col>&lt;dbl&gt;</th><th scope=col>&lt;dbl&gt;</th><th scope=col>&lt;dbl&gt;</th><th scope=col>&lt;fct&gt;</th><th scope=col>&lt;fct&gt;</th><th scope=col>&lt;dbl&gt;</th><th scope=col>&lt;dbl&gt;</th><th scope=col>⋯</th><th scope=col>&lt;dbl&gt;</th><th scope=col>&lt;dbl&gt;</th><th scope=col>&lt;dbl&gt;</th><th scope=col>&lt;dbl&gt;</th><th scope=col>&lt;dbl&gt;</th><th scope=col>&lt;dbl&gt;</th><th scope=col>&lt;dbl&gt;</th><th scope=col>&lt;dbl&gt;</th><th scope=col>&lt;dbl&gt;</th><th scope=col>&lt;dbl&gt;</th></tr>\n",
       "</thead>\n",
       "<tbody>\n",
       "\t<tr><td>Audi e-tron 55 quattro          </td><td>Audi</td><td>e-tron 55 quattro          </td><td>345700</td><td>360</td><td>664</td><td>disc (front + rear)</td><td>4WD</td><td>95</td><td>438</td><td>⋯</td><td>3130</td><td>640</td><td>5</td><td>5</td><td>19</td><td>200</td><td>660</td><td>5.7</td><td>150</td><td>24.45</td></tr>\n",
       "\t<tr><td>Audi e-tron 50 quattro          </td><td>Audi</td><td>e-tron 50 quattro          </td><td>308400</td><td>313</td><td>540</td><td>disc (front + rear)</td><td>4WD</td><td>71</td><td>340</td><td>⋯</td><td>3040</td><td>670</td><td>5</td><td>5</td><td>19</td><td>190</td><td>660</td><td>6.8</td><td>150</td><td>23.80</td></tr>\n",
       "\t<tr><td>Audi e-tron S quattro           </td><td>Audi</td><td>e-tron S quattro           </td><td>414900</td><td>503</td><td>973</td><td>disc (front + rear)</td><td>4WD</td><td>95</td><td>364</td><td>⋯</td><td>3130</td><td>565</td><td>5</td><td>5</td><td>20</td><td>210</td><td>660</td><td>4.5</td><td>150</td><td>27.55</td></tr>\n",
       "\t<tr><td>Audi e-tron Sportback 50 quattro</td><td>Audi</td><td>e-tron Sportback 50 quattro</td><td>319700</td><td>313</td><td>540</td><td>disc (front + rear)</td><td>4WD</td><td>71</td><td>346</td><td>⋯</td><td>3040</td><td>640</td><td>5</td><td>5</td><td>19</td><td>190</td><td>615</td><td>6.8</td><td>150</td><td>23.30</td></tr>\n",
       "\t<tr><td>Audi e-tron Sportback 55 quattro</td><td>Audi</td><td>e-tron Sportback 55 quattro</td><td>357000</td><td>360</td><td>664</td><td>disc (front + rear)</td><td>4WD</td><td>95</td><td>447</td><td>⋯</td><td>3130</td><td>670</td><td>5</td><td>5</td><td>19</td><td>200</td><td>615</td><td>5.7</td><td>150</td><td>23.85</td></tr>\n",
       "\t<tr><td>Audi e-tron Sportback S quattro </td><td>Audi</td><td>e-tron Sportback S quattro </td><td>426200</td><td>503</td><td>973</td><td>disc (front + rear)</td><td>4WD</td><td>95</td><td>369</td><td>⋯</td><td>3130</td><td>565</td><td>5</td><td>5</td><td>20</td><td>210</td><td>615</td><td>4.5</td><td>150</td><td>27.20</td></tr>\n",
       "</tbody>\n",
       "</table>\n"
      ],
      "text/latex": [
       "A tibble: 6 × 25\n",
       "\\begin{tabular}{lllllllllllllllllllll}\n",
       " Carro & Marca & Modelo & PrecoMax & PotenciaMotor & TorqueMax & Freios & Tracao & CapacidadeBateria & Autonomia & ⋯ & PesoMax & CargaMax & NumAssentos & NumPorta & TamanhoPneus & VeloMax & TamanhoPorta-Malas & Aceleracao & PotenciaMaximaBat & ConsumoMedio\\\\\n",
       " <fct> & <fct> & <fct> & <dbl> & <dbl> & <dbl> & <fct> & <fct> & <dbl> & <dbl> & ⋯ & <dbl> & <dbl> & <dbl> & <dbl> & <dbl> & <dbl> & <dbl> & <dbl> & <dbl> & <dbl>\\\\\n",
       "\\hline\n",
       "\t Audi e-tron 55 quattro           & Audi & e-tron 55 quattro           & 345700 & 360 & 664 & disc (front + rear) & 4WD & 95 & 438 & ⋯ & 3130 & 640 & 5 & 5 & 19 & 200 & 660 & 5.7 & 150 & 24.45\\\\\n",
       "\t Audi e-tron 50 quattro           & Audi & e-tron 50 quattro           & 308400 & 313 & 540 & disc (front + rear) & 4WD & 71 & 340 & ⋯ & 3040 & 670 & 5 & 5 & 19 & 190 & 660 & 6.8 & 150 & 23.80\\\\\n",
       "\t Audi e-tron S quattro            & Audi & e-tron S quattro            & 414900 & 503 & 973 & disc (front + rear) & 4WD & 95 & 364 & ⋯ & 3130 & 565 & 5 & 5 & 20 & 210 & 660 & 4.5 & 150 & 27.55\\\\\n",
       "\t Audi e-tron Sportback 50 quattro & Audi & e-tron Sportback 50 quattro & 319700 & 313 & 540 & disc (front + rear) & 4WD & 71 & 346 & ⋯ & 3040 & 640 & 5 & 5 & 19 & 190 & 615 & 6.8 & 150 & 23.30\\\\\n",
       "\t Audi e-tron Sportback 55 quattro & Audi & e-tron Sportback 55 quattro & 357000 & 360 & 664 & disc (front + rear) & 4WD & 95 & 447 & ⋯ & 3130 & 670 & 5 & 5 & 19 & 200 & 615 & 5.7 & 150 & 23.85\\\\\n",
       "\t Audi e-tron Sportback S quattro  & Audi & e-tron Sportback S quattro  & 426200 & 503 & 973 & disc (front + rear) & 4WD & 95 & 369 & ⋯ & 3130 & 565 & 5 & 5 & 20 & 210 & 615 & 4.5 & 150 & 27.20\\\\\n",
       "\\end{tabular}\n"
      ],
      "text/markdown": [
       "\n",
       "A tibble: 6 × 25\n",
       "\n",
       "| Carro &lt;fct&gt; | Marca &lt;fct&gt; | Modelo &lt;fct&gt; | PrecoMax &lt;dbl&gt; | PotenciaMotor &lt;dbl&gt; | TorqueMax &lt;dbl&gt; | Freios &lt;fct&gt; | Tracao &lt;fct&gt; | CapacidadeBateria &lt;dbl&gt; | Autonomia &lt;dbl&gt; | ⋯ ⋯ | PesoMax &lt;dbl&gt; | CargaMax &lt;dbl&gt; | NumAssentos &lt;dbl&gt; | NumPorta &lt;dbl&gt; | TamanhoPneus &lt;dbl&gt; | VeloMax &lt;dbl&gt; | TamanhoPorta-Malas &lt;dbl&gt; | Aceleracao &lt;dbl&gt; | PotenciaMaximaBat &lt;dbl&gt; | ConsumoMedio &lt;dbl&gt; |\n",
       "|---|---|---|---|---|---|---|---|---|---|---|---|---|---|---|---|---|---|---|---|---|\n",
       "| Audi e-tron 55 quattro           | Audi | e-tron 55 quattro           | 345700 | 360 | 664 | disc (front + rear) | 4WD | 95 | 438 | ⋯ | 3130 | 640 | 5 | 5 | 19 | 200 | 660 | 5.7 | 150 | 24.45 |\n",
       "| Audi e-tron 50 quattro           | Audi | e-tron 50 quattro           | 308400 | 313 | 540 | disc (front + rear) | 4WD | 71 | 340 | ⋯ | 3040 | 670 | 5 | 5 | 19 | 190 | 660 | 6.8 | 150 | 23.80 |\n",
       "| Audi e-tron S quattro            | Audi | e-tron S quattro            | 414900 | 503 | 973 | disc (front + rear) | 4WD | 95 | 364 | ⋯ | 3130 | 565 | 5 | 5 | 20 | 210 | 660 | 4.5 | 150 | 27.55 |\n",
       "| Audi e-tron Sportback 50 quattro | Audi | e-tron Sportback 50 quattro | 319700 | 313 | 540 | disc (front + rear) | 4WD | 71 | 346 | ⋯ | 3040 | 640 | 5 | 5 | 19 | 190 | 615 | 6.8 | 150 | 23.30 |\n",
       "| Audi e-tron Sportback 55 quattro | Audi | e-tron Sportback 55 quattro | 357000 | 360 | 664 | disc (front + rear) | 4WD | 95 | 447 | ⋯ | 3130 | 670 | 5 | 5 | 19 | 200 | 615 | 5.7 | 150 | 23.85 |\n",
       "| Audi e-tron Sportback S quattro  | Audi | e-tron Sportback S quattro  | 426200 | 503 | 973 | disc (front + rear) | 4WD | 95 | 369 | ⋯ | 3130 | 565 | 5 | 5 | 20 | 210 | 615 | 4.5 | 150 | 27.20 |\n",
       "\n"
      ],
      "text/plain": [
       "  Carro                            Marca Modelo                      PrecoMax\n",
       "1 Audi e-tron 55 quattro           Audi  e-tron 55 quattro           345700  \n",
       "2 Audi e-tron 50 quattro           Audi  e-tron 50 quattro           308400  \n",
       "3 Audi e-tron S quattro            Audi  e-tron S quattro            414900  \n",
       "4 Audi e-tron Sportback 50 quattro Audi  e-tron Sportback 50 quattro 319700  \n",
       "5 Audi e-tron Sportback 55 quattro Audi  e-tron Sportback 55 quattro 357000  \n",
       "6 Audi e-tron Sportback S quattro  Audi  e-tron Sportback S quattro  426200  \n",
       "  PotenciaMotor TorqueMax Freios              Tracao CapacidadeBateria\n",
       "1 360           664       disc (front + rear) 4WD    95               \n",
       "2 313           540       disc (front + rear) 4WD    71               \n",
       "3 503           973       disc (front + rear) 4WD    95               \n",
       "4 313           540       disc (front + rear) 4WD    71               \n",
       "5 360           664       disc (front + rear) 4WD    95               \n",
       "6 503           973       disc (front + rear) 4WD    95               \n",
       "  Autonomia ⋯ PesoMax CargaMax NumAssentos NumPorta TamanhoPneus VeloMax\n",
       "1 438       ⋯ 3130    640      5           5        19           200    \n",
       "2 340       ⋯ 3040    670      5           5        19           190    \n",
       "3 364       ⋯ 3130    565      5           5        20           210    \n",
       "4 346       ⋯ 3040    640      5           5        19           190    \n",
       "5 447       ⋯ 3130    670      5           5        19           200    \n",
       "6 369       ⋯ 3130    565      5           5        20           210    \n",
       "  TamanhoPorta-Malas Aceleracao PotenciaMaximaBat ConsumoMedio\n",
       "1 660                5.7        150               24.45       \n",
       "2 660                6.8        150               23.80       \n",
       "3 660                4.5        150               27.55       \n",
       "4 615                6.8        150               23.30       \n",
       "5 615                5.7        150               23.85       \n",
       "6 615                4.5        150               27.20       "
      ]
     },
     "metadata": {},
     "output_type": "display_data"
    }
   ],
   "source": [
    "data <- data %>%\n",
    "    mutate(\n",
    "        'Aceleracao' = ifelse(\n",
    "            is.na(`Aceleracao`),\n",
    "            predict(model[[1]], data %>% filter(is.na(`Aceleracao`))),\n",
    "            `Aceleracao`\n",
    "        )\n",
    "    )\n",
    "\n",
    "data %>%\n",
    "    head()"
   ]
  },
  {
   "cell_type": "markdown",
   "metadata": {},
   "source": [
    "## Capacidade Porta Malas"
   ]
  },
  {
   "cell_type": "code",
   "execution_count": 12,
   "metadata": {
    "vscode": {
     "languageId": "r"
    }
   },
   "outputs": [
    {
     "data": {
      "text/html": [
       "<table class=\"dataframe\">\n",
       "<caption>A tibble: 1 × 25</caption>\n",
       "<thead>\n",
       "\t<tr><th scope=col>Carro</th><th scope=col>Marca</th><th scope=col>Modelo</th><th scope=col>PrecoMax</th><th scope=col>PotenciaMotor</th><th scope=col>TorqueMax</th><th scope=col>Freios</th><th scope=col>Tracao</th><th scope=col>CapacidadeBateria</th><th scope=col>Autonomia</th><th scope=col>⋯</th><th scope=col>PesoMax</th><th scope=col>CargaMax</th><th scope=col>NumAssentos</th><th scope=col>NumPorta</th><th scope=col>TamanhoPneus</th><th scope=col>VeloMax</th><th scope=col>TamanhoPorta-Malas</th><th scope=col>Aceleracao</th><th scope=col>PotenciaMaximaBat</th><th scope=col>ConsumoMedio</th></tr>\n",
       "\t<tr><th scope=col>&lt;fct&gt;</th><th scope=col>&lt;fct&gt;</th><th scope=col>&lt;fct&gt;</th><th scope=col>&lt;dbl&gt;</th><th scope=col>&lt;dbl&gt;</th><th scope=col>&lt;dbl&gt;</th><th scope=col>&lt;fct&gt;</th><th scope=col>&lt;fct&gt;</th><th scope=col>&lt;dbl&gt;</th><th scope=col>&lt;dbl&gt;</th><th scope=col>⋯</th><th scope=col>&lt;dbl&gt;</th><th scope=col>&lt;dbl&gt;</th><th scope=col>&lt;dbl&gt;</th><th scope=col>&lt;dbl&gt;</th><th scope=col>&lt;dbl&gt;</th><th scope=col>&lt;dbl&gt;</th><th scope=col>&lt;dbl&gt;</th><th scope=col>&lt;dbl&gt;</th><th scope=col>&lt;dbl&gt;</th><th scope=col>&lt;dbl&gt;</th></tr>\n",
       "</thead>\n",
       "<tbody>\n",
       "\t<tr><td>Mercedes-Benz EQV (long)</td><td>Mercedes-Benz</td><td>EQV (long)</td><td>339480</td><td>204</td><td>362</td><td>NA</td><td>2WD (front)</td><td>90</td><td>356</td><td>⋯</td><td>3500</td><td>865</td><td>6</td><td>5</td><td>17</td><td>160</td><td>NA</td><td>8.503507</td><td>110</td><td>28.2</td></tr>\n",
       "</tbody>\n",
       "</table>\n"
      ],
      "text/latex": [
       "A tibble: 1 × 25\n",
       "\\begin{tabular}{lllllllllllllllllllll}\n",
       " Carro & Marca & Modelo & PrecoMax & PotenciaMotor & TorqueMax & Freios & Tracao & CapacidadeBateria & Autonomia & ⋯ & PesoMax & CargaMax & NumAssentos & NumPorta & TamanhoPneus & VeloMax & TamanhoPorta-Malas & Aceleracao & PotenciaMaximaBat & ConsumoMedio\\\\\n",
       " <fct> & <fct> & <fct> & <dbl> & <dbl> & <dbl> & <fct> & <fct> & <dbl> & <dbl> & ⋯ & <dbl> & <dbl> & <dbl> & <dbl> & <dbl> & <dbl> & <dbl> & <dbl> & <dbl> & <dbl>\\\\\n",
       "\\hline\n",
       "\t Mercedes-Benz EQV (long) & Mercedes-Benz & EQV (long) & 339480 & 204 & 362 & NA & 2WD (front) & 90 & 356 & ⋯ & 3500 & 865 & 6 & 5 & 17 & 160 & NA & 8.503507 & 110 & 28.2\\\\\n",
       "\\end{tabular}\n"
      ],
      "text/markdown": [
       "\n",
       "A tibble: 1 × 25\n",
       "\n",
       "| Carro &lt;fct&gt; | Marca &lt;fct&gt; | Modelo &lt;fct&gt; | PrecoMax &lt;dbl&gt; | PotenciaMotor &lt;dbl&gt; | TorqueMax &lt;dbl&gt; | Freios &lt;fct&gt; | Tracao &lt;fct&gt; | CapacidadeBateria &lt;dbl&gt; | Autonomia &lt;dbl&gt; | ⋯ ⋯ | PesoMax &lt;dbl&gt; | CargaMax &lt;dbl&gt; | NumAssentos &lt;dbl&gt; | NumPorta &lt;dbl&gt; | TamanhoPneus &lt;dbl&gt; | VeloMax &lt;dbl&gt; | TamanhoPorta-Malas &lt;dbl&gt; | Aceleracao &lt;dbl&gt; | PotenciaMaximaBat &lt;dbl&gt; | ConsumoMedio &lt;dbl&gt; |\n",
       "|---|---|---|---|---|---|---|---|---|---|---|---|---|---|---|---|---|---|---|---|---|\n",
       "| Mercedes-Benz EQV (long) | Mercedes-Benz | EQV (long) | 339480 | 204 | 362 | NA | 2WD (front) | 90 | 356 | ⋯ | 3500 | 865 | 6 | 5 | 17 | 160 | NA | 8.503507 | 110 | 28.2 |\n",
       "\n"
      ],
      "text/plain": [
       "  Carro                    Marca         Modelo     PrecoMax PotenciaMotor\n",
       "1 Mercedes-Benz EQV (long) Mercedes-Benz EQV (long) 339480   204          \n",
       "  TorqueMax Freios Tracao      CapacidadeBateria Autonomia ⋯ PesoMax CargaMax\n",
       "1 362       NA     2WD (front) 90                356       ⋯ 3500    865     \n",
       "  NumAssentos NumPorta TamanhoPneus VeloMax TamanhoPorta-Malas Aceleracao\n",
       "1 6           5        17           160     NA                 8.503507  \n",
       "  PotenciaMaximaBat ConsumoMedio\n",
       "1 110               28.2        "
      ]
     },
     "metadata": {},
     "output_type": "display_data"
    }
   ],
   "source": [
    "data %>%\n",
    "    filter_all(any_vars(is.na(.)))"
   ]
  },
  {
   "cell_type": "code",
   "execution_count": 13,
   "metadata": {
    "vscode": {
     "languageId": "r"
    }
   },
   "outputs": [
    {
     "data": {
      "text/plain": [
       "\n",
       "Call:\n",
       "lm(formula = `TamanhoPorta-Malas` ~ PesoMin + PesoMax + `Entre-eixos`, \n",
       "    data = data)\n",
       "\n",
       "Residuals:\n",
       "    Min      1Q  Median      3Q     Max \n",
       "-130.67  -42.83   -9.21   40.87  402.99 \n",
       "\n",
       "Coefficients:\n",
       "               Estimate Std. Error t value Pr(>|t|)   \n",
       "(Intercept)   -406.0595   249.7509  -1.626  0.11203   \n",
       "PesoMin         -0.2480     0.1486  -1.669  0.10320   \n",
       "PesoMax          0.4060     0.1465   2.772  0.00851 **\n",
       "`Entre-eixos`    1.3004     1.3070   0.995  0.32588   \n",
       "---\n",
       "Signif. codes:  0 ‘***’ 0.001 ‘**’ 0.01 ‘*’ 0.05 ‘.’ 0.1 ‘ ’ 1\n",
       "\n",
       "Residual standard error: 92.35 on 39 degrees of freedom\n",
       "  (1 observation deleted due to missingness)\n",
       "Multiple R-squared:  0.6955,\tAdjusted R-squared:  0.6721 \n",
       "F-statistic: 29.69 on 3 and 39 DF,  p-value: 3.647e-10\n"
      ]
     },
     "metadata": {},
     "output_type": "display_data"
    }
   ],
   "source": [
    "summary(lm(\n",
    "    `TamanhoPorta-Malas` ~ `PesoMin`\n",
    "                        + `PesoMax`\n",
    "                        + `Entre-eixos`\n",
    "                                          ,\n",
    "    data = data\n",
    "))"
   ]
  },
  {
   "cell_type": "code",
   "execution_count": 14,
   "metadata": {
    "vscode": {
     "languageId": "r"
    }
   },
   "outputs": [
    {
     "data": {
      "image/png": "[encoded data removed]",
      "text/plain": [
       "plot without title"
      ]
     },
     "metadata": {
      "image/png": {
       "height": 420,
       "width": 420
      }
     },
     "output_type": "display_data"
    }
   ],
   "source": [
    "plot(\n",
    "    `TamanhoPorta-Malas` ~ `PesoMax`,\n",
    "    data = data\n",
    ")"
   ]
  },
  {
   "cell_type": "code",
   "execution_count": 15,
   "metadata": {
    "vscode": {
     "languageId": "r"
    }
   },
   "outputs": [
    {
     "data": {
      "text/plain": [
       "[[1]]\n",
       "\n",
       "Call:\n",
       "lm(formula = `TamanhoPorta-Malas` ~ PesoMax, data = model_data[[1]])\n",
       "\n",
       "Coefficients:\n",
       "(Intercept)      PesoMax  \n",
       "   -165.760        0.261  \n",
       "\n",
       "\n",
       "[[2]]\n",
       "[1] 0.6456655\n"
      ]
     },
     "metadata": {},
     "output_type": "display_data"
    }
   ],
   "source": [
    "train_model_2 <- function(data) {\n",
    "    model_data <- separate_data(data, 0.8)\n",
    "    modelo <- lm(`TamanhoPorta-Malas` ~ `PesoMax`, data = model_data[[1]])\n",
    "    pred <- predict(modelo, model_data[[2]])\n",
    "    R2 <- r2(model_data[[2]]$`TamanhoPorta-Malas`, pred)\n",
    "\n",
    "    return(list(modelo, R2))\n",
    "}\n",
    "\n",
    "model_2 <- train_model_2(\n",
    "    data %>% na.omit()\n",
    ")\n",
    "\n",
    "model_2"
   ]
  },
  {
   "cell_type": "code",
   "execution_count": 16,
   "metadata": {
    "vscode": {
     "languageId": "r"
    }
   },
   "outputs": [],
   "source": [
    "data <- data %>%\n",
    "    mutate(\n",
    "        `TamanhoPorta-Malas` = ifelse(\n",
    "            is.na(`TamanhoPorta-Malas`),\n",
    "            predict(model_2[[1]], data %>% filter(is.na(`TamanhoPorta-Malas`))),\n",
    "            `TamanhoPorta-Malas`\n",
    "        )\n",
    "    )"
   ]
  },
  {
   "cell_type": "markdown",
   "metadata": {},
   "source": [
    "## Tipo de Freios"
   ]
  },
  {
   "cell_type": "markdown",
   "metadata": {},
   "source": [
    "A maior parte dos freios é do tipo \"disc (front + rear)\" vou preencher o NA com esse valor."
   ]
  },
  {
   "cell_type": "code",
   "execution_count": 17,
   "metadata": {
    "vscode": {
     "languageId": "r"
    }
   },
   "outputs": [
    {
     "data": {
      "text/plain": [
       "Freios\n",
       "       disc (front + rear) disc (front) + drum (rear) \n",
       "                  83.72093                   16.27907 "
      ]
     },
     "metadata": {},
     "output_type": "display_data"
    }
   ],
   "source": [
    "data %>%\n",
    "    select('Freios') %>%\n",
    "    table() %>%\n",
    "    prop.table() * 100"
   ]
  },
  {
   "cell_type": "code",
   "execution_count": 18,
   "metadata": {
    "vscode": {
     "languageId": "r"
    }
   },
   "outputs": [
    {
     "data": {
      "text/html": [
       "<table class=\"dataframe\">\n",
       "<caption>A tibble: 6 × 25</caption>\n",
       "<thead>\n",
       "\t<tr><th scope=col>Carro</th><th scope=col>Marca</th><th scope=col>Modelo</th><th scope=col>PrecoMax</th><th scope=col>PotenciaMotor</th><th scope=col>TorqueMax</th><th scope=col>Freios</th><th scope=col>Tracao</th><th scope=col>CapacidadeBateria</th><th scope=col>Autonomia</th><th scope=col>⋯</th><th scope=col>PesoMax</th><th scope=col>CargaMax</th><th scope=col>NumAssentos</th><th scope=col>NumPorta</th><th scope=col>TamanhoPneus</th><th scope=col>VeloMax</th><th scope=col>TamanhoPorta-Malas</th><th scope=col>Aceleracao</th><th scope=col>PotenciaMaximaBat</th><th scope=col>ConsumoMedio</th></tr>\n",
       "\t<tr><th scope=col>&lt;fct&gt;</th><th scope=col>&lt;fct&gt;</th><th scope=col>&lt;fct&gt;</th><th scope=col>&lt;dbl&gt;</th><th scope=col>&lt;dbl&gt;</th><th scope=col>&lt;dbl&gt;</th><th scope=col>&lt;fct&gt;</th><th scope=col>&lt;fct&gt;</th><th scope=col>&lt;dbl&gt;</th><th scope=col>&lt;dbl&gt;</th><th scope=col>⋯</th><th scope=col>&lt;dbl&gt;</th><th scope=col>&lt;dbl&gt;</th><th scope=col>&lt;dbl&gt;</th><th scope=col>&lt;dbl&gt;</th><th scope=col>&lt;dbl&gt;</th><th scope=col>&lt;dbl&gt;</th><th scope=col>&lt;dbl&gt;</th><th scope=col>&lt;dbl&gt;</th><th scope=col>&lt;dbl&gt;</th><th scope=col>&lt;dbl&gt;</th></tr>\n",
       "</thead>\n",
       "<tbody>\n",
       "\t<tr><td>Audi e-tron 55 quattro          </td><td>Audi</td><td>e-tron 55 quattro          </td><td>345700</td><td>360</td><td>664</td><td>disc (front + rear)</td><td>4WD</td><td>95</td><td>438</td><td>⋯</td><td>3130</td><td>640</td><td>5</td><td>5</td><td>19</td><td>200</td><td>660</td><td>5.7</td><td>150</td><td>24.45</td></tr>\n",
       "\t<tr><td>Audi e-tron 50 quattro          </td><td>Audi</td><td>e-tron 50 quattro          </td><td>308400</td><td>313</td><td>540</td><td>disc (front + rear)</td><td>4WD</td><td>71</td><td>340</td><td>⋯</td><td>3040</td><td>670</td><td>5</td><td>5</td><td>19</td><td>190</td><td>660</td><td>6.8</td><td>150</td><td>23.80</td></tr>\n",
       "\t<tr><td>Audi e-tron S quattro           </td><td>Audi</td><td>e-tron S quattro           </td><td>414900</td><td>503</td><td>973</td><td>disc (front + rear)</td><td>4WD</td><td>95</td><td>364</td><td>⋯</td><td>3130</td><td>565</td><td>5</td><td>5</td><td>20</td><td>210</td><td>660</td><td>4.5</td><td>150</td><td>27.55</td></tr>\n",
       "\t<tr><td>Audi e-tron Sportback 50 quattro</td><td>Audi</td><td>e-tron Sportback 50 quattro</td><td>319700</td><td>313</td><td>540</td><td>disc (front + rear)</td><td>4WD</td><td>71</td><td>346</td><td>⋯</td><td>3040</td><td>640</td><td>5</td><td>5</td><td>19</td><td>190</td><td>615</td><td>6.8</td><td>150</td><td>23.30</td></tr>\n",
       "\t<tr><td>Audi e-tron Sportback 55 quattro</td><td>Audi</td><td>e-tron Sportback 55 quattro</td><td>357000</td><td>360</td><td>664</td><td>disc (front + rear)</td><td>4WD</td><td>95</td><td>447</td><td>⋯</td><td>3130</td><td>670</td><td>5</td><td>5</td><td>19</td><td>200</td><td>615</td><td>5.7</td><td>150</td><td>23.85</td></tr>\n",
       "\t<tr><td>Audi e-tron Sportback S quattro </td><td>Audi</td><td>e-tron Sportback S quattro </td><td>426200</td><td>503</td><td>973</td><td>disc (front + rear)</td><td>4WD</td><td>95</td><td>369</td><td>⋯</td><td>3130</td><td>565</td><td>5</td><td>5</td><td>20</td><td>210</td><td>615</td><td>4.5</td><td>150</td><td>27.20</td></tr>\n",
       "</tbody>\n",
       "</table>\n"
      ],
      "text/latex": [
       "A tibble: 6 × 25\n",
       "\\begin{tabular}{lllllllllllllllllllll}\n",
       " Carro & Marca & Modelo & PrecoMax & PotenciaMotor & TorqueMax & Freios & Tracao & CapacidadeBateria & Autonomia & ⋯ & PesoMax & CargaMax & NumAssentos & NumPorta & TamanhoPneus & VeloMax & TamanhoPorta-Malas & Aceleracao & PotenciaMaximaBat & ConsumoMedio\\\\\n",
       " <fct> & <fct> & <fct> & <dbl> & <dbl> & <dbl> & <fct> & <fct> & <dbl> & <dbl> & ⋯ & <dbl> & <dbl> & <dbl> & <dbl> & <dbl> & <dbl> & <dbl> & <dbl> & <dbl> & <dbl>\\\\\n",
       "\\hline\n",
       "\t Audi e-tron 55 quattro           & Audi & e-tron 55 quattro           & 345700 & 360 & 664 & disc (front + rear) & 4WD & 95 & 438 & ⋯ & 3130 & 640 & 5 & 5 & 19 & 200 & 660 & 5.7 & 150 & 24.45\\\\\n",
       "\t Audi e-tron 50 quattro           & Audi & e-tron 50 quattro           & 308400 & 313 & 540 & disc (front + rear) & 4WD & 71 & 340 & ⋯ & 3040 & 670 & 5 & 5 & 19 & 190 & 660 & 6.8 & 150 & 23.80\\\\\n",
       "\t Audi e-tron S quattro            & Audi & e-tron S quattro            & 414900 & 503 & 973 & disc (front + rear) & 4WD & 95 & 364 & ⋯ & 3130 & 565 & 5 & 5 & 20 & 210 & 660 & 4.5 & 150 & 27.55\\\\\n",
       "\t Audi e-tron Sportback 50 quattro & Audi & e-tron Sportback 50 quattro & 319700 & 313 & 540 & disc (front + rear) & 4WD & 71 & 346 & ⋯ & 3040 & 640 & 5 & 5 & 19 & 190 & 615 & 6.8 & 150 & 23.30\\\\\n",
       "\t Audi e-tron Sportback 55 quattro & Audi & e-tron Sportback 55 quattro & 357000 & 360 & 664 & disc (front + rear) & 4WD & 95 & 447 & ⋯ & 3130 & 670 & 5 & 5 & 19 & 200 & 615 & 5.7 & 150 & 23.85\\\\\n",
       "\t Audi e-tron Sportback S quattro  & Audi & e-tron Sportback S quattro  & 426200 & 503 & 973 & disc (front + rear) & 4WD & 95 & 369 & ⋯ & 3130 & 565 & 5 & 5 & 20 & 210 & 615 & 4.5 & 150 & 27.20\\\\\n",
       "\\end{tabular}\n"
      ],
      "text/markdown": [
       "\n",
       "A tibble: 6 × 25\n",
       "\n",
       "| Carro &lt;fct&gt; | Marca &lt;fct&gt; | Modelo &lt;fct&gt; | PrecoMax &lt;dbl&gt; | PotenciaMotor &lt;dbl&gt; | TorqueMax &lt;dbl&gt; | Freios &lt;fct&gt; | Tracao &lt;fct&gt; | CapacidadeBateria &lt;dbl&gt; | Autonomia &lt;dbl&gt; | ⋯ ⋯ | PesoMax &lt;dbl&gt; | CargaMax &lt;dbl&gt; | NumAssentos &lt;dbl&gt; | NumPorta &lt;dbl&gt; | TamanhoPneus &lt;dbl&gt; | VeloMax &lt;dbl&gt; | TamanhoPorta-Malas &lt;dbl&gt; | Aceleracao &lt;dbl&gt; | PotenciaMaximaBat &lt;dbl&gt; | ConsumoMedio &lt;dbl&gt; |\n",
       "|---|---|---|---|---|---|---|---|---|---|---|---|---|---|---|---|---|---|---|---|---|\n",
       "| Audi e-tron 55 quattro           | Audi | e-tron 55 quattro           | 345700 | 360 | 664 | disc (front + rear) | 4WD | 95 | 438 | ⋯ | 3130 | 640 | 5 | 5 | 19 | 200 | 660 | 5.7 | 150 | 24.45 |\n",
       "| Audi e-tron 50 quattro           | Audi | e-tron 50 quattro           | 308400 | 313 | 540 | disc (front + rear) | 4WD | 71 | 340 | ⋯ | 3040 | 670 | 5 | 5 | 19 | 190 | 660 | 6.8 | 150 | 23.80 |\n",
       "| Audi e-tron S quattro            | Audi | e-tron S quattro            | 414900 | 503 | 973 | disc (front + rear) | 4WD | 95 | 364 | ⋯ | 3130 | 565 | 5 | 5 | 20 | 210 | 660 | 4.5 | 150 | 27.55 |\n",
       "| Audi e-tron Sportback 50 quattro | Audi | e-tron Sportback 50 quattro | 319700 | 313 | 540 | disc (front + rear) | 4WD | 71 | 346 | ⋯ | 3040 | 640 | 5 | 5 | 19 | 190 | 615 | 6.8 | 150 | 23.30 |\n",
       "| Audi e-tron Sportback 55 quattro | Audi | e-tron Sportback 55 quattro | 357000 | 360 | 664 | disc (front + rear) | 4WD | 95 | 447 | ⋯ | 3130 | 670 | 5 | 5 | 19 | 200 | 615 | 5.7 | 150 | 23.85 |\n",
       "| Audi e-tron Sportback S quattro  | Audi | e-tron Sportback S quattro  | 426200 | 503 | 973 | disc (front + rear) | 4WD | 95 | 369 | ⋯ | 3130 | 565 | 5 | 5 | 20 | 210 | 615 | 4.5 | 150 | 27.20 |\n",
       "\n"
      ],
      "text/plain": [
       "  Carro                            Marca Modelo                      PrecoMax\n",
       "1 Audi e-tron 55 quattro           Audi  e-tron 55 quattro           345700  \n",
       "2 Audi e-tron 50 quattro           Audi  e-tron 50 quattro           308400  \n",
       "3 Audi e-tron S quattro            Audi  e-tron S quattro            414900  \n",
       "4 Audi e-tron Sportback 50 quattro Audi  e-tron Sportback 50 quattro 319700  \n",
       "5 Audi e-tron Sportback 55 quattro Audi  e-tron Sportback 55 quattro 357000  \n",
       "6 Audi e-tron Sportback S quattro  Audi  e-tron Sportback S quattro  426200  \n",
       "  PotenciaMotor TorqueMax Freios              Tracao CapacidadeBateria\n",
       "1 360           664       disc (front + rear) 4WD    95               \n",
       "2 313           540       disc (front + rear) 4WD    71               \n",
       "3 503           973       disc (front + rear) 4WD    95               \n",
       "4 313           540       disc (front + rear) 4WD    71               \n",
       "5 360           664       disc (front + rear) 4WD    95               \n",
       "6 503           973       disc (front + rear) 4WD    95               \n",
       "  Autonomia ⋯ PesoMax CargaMax NumAssentos NumPorta TamanhoPneus VeloMax\n",
       "1 438       ⋯ 3130    640      5           5        19           200    \n",
       "2 340       ⋯ 3040    670      5           5        19           190    \n",
       "3 364       ⋯ 3130    565      5           5        20           210    \n",
       "4 346       ⋯ 3040    640      5           5        19           190    \n",
       "5 447       ⋯ 3130    670      5           5        19           200    \n",
       "6 369       ⋯ 3130    565      5           5        20           210    \n",
       "  TamanhoPorta-Malas Aceleracao PotenciaMaximaBat ConsumoMedio\n",
       "1 660                5.7        150               24.45       \n",
       "2 660                6.8        150               23.80       \n",
       "3 660                4.5        150               27.55       \n",
       "4 615                6.8        150               23.30       \n",
       "5 615                5.7        150               23.85       \n",
       "6 615                4.5        150               27.20       "
      ]
     },
     "metadata": {},
     "output_type": "display_data"
    }
   ],
   "source": [
    "data <- data %>%\n",
    "    replace_na(list(\n",
    "        'Freios' = 'disc (front + rear)'\n",
    "    ))\n",
    "\n",
    "data %>%\n",
    "    head()"
   ]
  },
  {
   "cell_type": "code",
   "execution_count": 19,
   "metadata": {
    "vscode": {
     "languageId": "r"
    }
   },
   "outputs": [
    {
     "name": "stderr",
     "output_type": "stream",
     "text": [
      "Warning message:\n",
      "“\u001b[1m\u001b[22m`funs()` was deprecated in dplyr 0.8.0.\n",
      "\u001b[36mℹ\u001b[39m Please use a list of either functions or lambdas:\n",
      "\n",
      "# Simple named list: list(mean = mean, median = median)\n",
      "\n",
      "# Auto named with `tibble::lst()`: tibble::lst(mean, median)\n",
      "\n",
      "# Using lambdas list(~ mean(., trim = .2), ~ median(., na.rm = TRUE))”\n"
     ]
    },
    {
     "data": {
      "text/html": [
       "<table class=\"dataframe\">\n",
       "<caption>A tibble: 0 × 2</caption>\n",
       "<thead>\n",
       "\t<tr><th scope=col>Colunas</th><th scope=col>QntNA</th></tr>\n",
       "\t<tr><th scope=col>&lt;chr&gt;</th><th scope=col>&lt;int&gt;</th></tr>\n",
       "</thead>\n",
       "<tbody>\n",
       "</tbody>\n",
       "</table>\n"
      ],
      "text/latex": [
       "A tibble: 0 × 2\n",
       "\\begin{tabular}{ll}\n",
       " Colunas & QntNA\\\\\n",
       " <chr> & <int>\\\\\n",
       "\\hline\n",
       "\\end{tabular}\n"
      ],
      "text/markdown": [
       "\n",
       "A tibble: 0 × 2\n",
       "\n",
       "| Colunas &lt;chr&gt; | QntNA &lt;int&gt; |\n",
       "|---|---|\n",
       "\n"
      ],
      "text/plain": [
       "     Colunas QntNA"
      ]
     },
     "metadata": {},
     "output_type": "display_data"
    }
   ],
   "source": [
    "data %>%\n",
    "    qnt_na()"
   ]
  },
  {
   "attachments": {},
   "cell_type": "markdown",
   "metadata": {},
   "source": [
    "# Exportação dos dados modificados"
   ]
  },
  {
   "cell_type": "code",
   "execution_count": 20,
   "metadata": {
    "vscode": {
     "languageId": "r"
    }
   },
   "outputs": [],
   "source": [
    "write_parquet(data, '../Dados/Processado/Carros.parquet')"
   ]
  },
  {
   "cell_type": "code",
   "execution_count": 21,
   "metadata": {
    "vscode": {
     "languageId": "r"
    }
   },
   "outputs": [
    {
     "name": "stdout",
     "output_type": "stream",
     "text": [
      "tibble [6 × 25] (S3: tbl_df/tbl/data.frame)\n",
      " $ Carro             : Factor w/ 53 levels \"Audi e-tron 50 quattro\",..: 2 1 3 4 5 6\n",
      " $ Marca             : Factor w/ 20 levels \"Audi\",\"BMW\",\"Citroën\",..: 1 1 1 1 1 1\n",
      " $ Modelo            : Factor w/ 53 levels \"Citigo-e iV\",..: 17 16 18 19 20 21\n",
      " $ PrecoMax          : num [1:6] 345700 308400 414900 319700 357000 ...\n",
      " $ PotenciaMotor     : num [1:6] 360 313 503 313 360 503\n",
      " $ TorqueMax         : num [1:6] 664 540 973 540 664 973\n",
      " $ Freios            : Factor w/ 2 levels \"disc (front + rear)\",..: 1 1 1 1 1 1\n",
      " $ Tracao            : Factor w/ 3 levels \"2WD (front)\",..: 3 3 3 3 3 3\n",
      " $ CapacidadeBateria : num [1:6] 95 71 95 71 95 95\n",
      " $ Autonomia         : num [1:6] 438 340 364 346 447 369\n",
      " $ Entre-eixos       : num [1:6] 293 293 293 293 293 ...\n",
      " $ Comprimento       : num [1:6] 490 490 490 490 490 ...\n",
      " $ Largura           : num [1:6] 194 194 198 194 194 ...\n",
      " $ Altura            : num [1:6] 163 163 163 162 162 ...\n",
      " $ PesoMin           : num [1:6] 2565 2445 2695 2445 2595 ...\n",
      " $ PesoMax           : num [1:6] 3130 3040 3130 3040 3130 3130\n",
      " $ CargaMax          : num [1:6] 640 670 565 640 670 565\n",
      " $ NumAssentos       : num [1:6] 5 5 5 5 5 5\n",
      " $ NumPorta          : num [1:6] 5 5 5 5 5 5\n",
      " $ TamanhoPneus      : num [1:6] 19 19 20 19 19 20\n",
      " $ VeloMax           : num [1:6] 200 190 210 190 200 210\n",
      " $ TamanhoPorta-Malas: num [1:6] 660 660 660 615 615 615\n",
      " $ Aceleracao        : num [1:6] 5.7 6.8 4.5 6.8 5.7 4.5\n",
      " $ PotenciaMaximaBat : num [1:6] 150 150 150 150 150 150\n",
      " $ ConsumoMedio      : num [1:6] 24.4 23.8 27.6 23.3 23.9 ...\n"
     ]
    }
   ],
   "source": [
    "read_parquet('../Dados/Processado/Carros.parquet') %>%\n",
    "    head() %>%\n",
    "    str()"
   ]
  }
 ],
 "metadata": {
  "kernelspec": {
   "display_name": "R",
   "language": "R",
   "name": "ir"
  },
  "language_info": {
   "codemirror_mode": "r",
   "file_extension": ".r",
   "mimetype": "text/x-r-source",
   "name": "R",
   "pygments_lexer": "r",
   "version": "4.2.2"
  },
  "orig_nbformat": 4
 },
 "nbformat": 4,
 "nbformat_minor": 2
}
